{
 "cells": [
  {
   "cell_type": "markdown",
   "id": "8c14f23b",
   "metadata": {},
   "source": [
    "# Utkarsh Tripathi              "
   ]
  },
  {
   "cell_type": "markdown",
   "id": "d408facf",
   "metadata": {},
   "source": [
    "### Laptop Price Prediction                  20th feb  2022"
   ]
  },
  {
   "cell_type": "code",
   "execution_count": 1,
   "id": "5da059f3",
   "metadata": {},
   "outputs": [],
   "source": [
    "import numpy as np\n",
    "import pandas as pd\n",
    "import matplotlib.pyplot as plt\n",
    "import seaborn as sb\n",
    "\n",
    "#from sklearn.model_selection import "
   ]
  },
  {
   "cell_type": "code",
   "execution_count": 2,
   "id": "a0784ce6",
   "metadata": {
    "scrolled": true
   },
   "outputs": [
    {
     "data": {
      "text/html": [
       "<div>\n",
       "<style scoped>\n",
       "    .dataframe tbody tr th:only-of-type {\n",
       "        vertical-align: middle;\n",
       "    }\n",
       "\n",
       "    .dataframe tbody tr th {\n",
       "        vertical-align: top;\n",
       "    }\n",
       "\n",
       "    .dataframe thead th {\n",
       "        text-align: right;\n",
       "    }\n",
       "</style>\n",
       "<table border=\"1\" class=\"dataframe\">\n",
       "  <thead>\n",
       "    <tr style=\"text-align: right;\">\n",
       "      <th></th>\n",
       "      <th>Unnamed: 0</th>\n",
       "      <th>Company</th>\n",
       "      <th>Product</th>\n",
       "      <th>TypeName</th>\n",
       "      <th>Inches</th>\n",
       "      <th>ScreenResolution</th>\n",
       "      <th>Cpu</th>\n",
       "      <th>Ram</th>\n",
       "      <th>Memory</th>\n",
       "      <th>Gpu</th>\n",
       "      <th>OpSys</th>\n",
       "      <th>Weight</th>\n",
       "      <th>Price_euros</th>\n",
       "    </tr>\n",
       "  </thead>\n",
       "  <tbody>\n",
       "    <tr>\n",
       "      <th>0</th>\n",
       "      <td>1</td>\n",
       "      <td>Apple</td>\n",
       "      <td>MacBook Pro</td>\n",
       "      <td>Ultrabook</td>\n",
       "      <td>13.3</td>\n",
       "      <td>IPS Panel Retina Display 2560x1600</td>\n",
       "      <td>Intel Core i5 2.3GHz</td>\n",
       "      <td>8GB</td>\n",
       "      <td>128GB SSD</td>\n",
       "      <td>Intel Iris Plus Graphics 640</td>\n",
       "      <td>macOS</td>\n",
       "      <td>1.37kg</td>\n",
       "      <td>1339.69</td>\n",
       "    </tr>\n",
       "    <tr>\n",
       "      <th>1</th>\n",
       "      <td>2</td>\n",
       "      <td>Apple</td>\n",
       "      <td>Macbook Air</td>\n",
       "      <td>Ultrabook</td>\n",
       "      <td>13.3</td>\n",
       "      <td>1440x900</td>\n",
       "      <td>Intel Core i5 1.8GHz</td>\n",
       "      <td>8GB</td>\n",
       "      <td>128GB Flash Storage</td>\n",
       "      <td>Intel HD Graphics 6000</td>\n",
       "      <td>macOS</td>\n",
       "      <td>1.34kg</td>\n",
       "      <td>898.94</td>\n",
       "    </tr>\n",
       "    <tr>\n",
       "      <th>2</th>\n",
       "      <td>3</td>\n",
       "      <td>HP</td>\n",
       "      <td>250 G6</td>\n",
       "      <td>Notebook</td>\n",
       "      <td>15.6</td>\n",
       "      <td>Full HD 1920x1080</td>\n",
       "      <td>Intel Core i5 7200U 2.5GHz</td>\n",
       "      <td>8GB</td>\n",
       "      <td>256GB SSD</td>\n",
       "      <td>Intel HD Graphics 620</td>\n",
       "      <td>No OS</td>\n",
       "      <td>1.86kg</td>\n",
       "      <td>575.00</td>\n",
       "    </tr>\n",
       "    <tr>\n",
       "      <th>3</th>\n",
       "      <td>4</td>\n",
       "      <td>Apple</td>\n",
       "      <td>MacBook Pro</td>\n",
       "      <td>Ultrabook</td>\n",
       "      <td>15.4</td>\n",
       "      <td>IPS Panel Retina Display 2880x1800</td>\n",
       "      <td>Intel Core i7 2.7GHz</td>\n",
       "      <td>16GB</td>\n",
       "      <td>512GB SSD</td>\n",
       "      <td>AMD Radeon Pro 455</td>\n",
       "      <td>macOS</td>\n",
       "      <td>1.83kg</td>\n",
       "      <td>2537.45</td>\n",
       "    </tr>\n",
       "    <tr>\n",
       "      <th>4</th>\n",
       "      <td>5</td>\n",
       "      <td>Apple</td>\n",
       "      <td>MacBook Pro</td>\n",
       "      <td>Ultrabook</td>\n",
       "      <td>13.3</td>\n",
       "      <td>IPS Panel Retina Display 2560x1600</td>\n",
       "      <td>Intel Core i5 3.1GHz</td>\n",
       "      <td>8GB</td>\n",
       "      <td>256GB SSD</td>\n",
       "      <td>Intel Iris Plus Graphics 650</td>\n",
       "      <td>macOS</td>\n",
       "      <td>1.37kg</td>\n",
       "      <td>1803.60</td>\n",
       "    </tr>\n",
       "  </tbody>\n",
       "</table>\n",
       "</div>"
      ],
      "text/plain": [
       "   Unnamed: 0 Company      Product   TypeName  Inches  \\\n",
       "0           1   Apple  MacBook Pro  Ultrabook    13.3   \n",
       "1           2   Apple  Macbook Air  Ultrabook    13.3   \n",
       "2           3      HP       250 G6   Notebook    15.6   \n",
       "3           4   Apple  MacBook Pro  Ultrabook    15.4   \n",
       "4           5   Apple  MacBook Pro  Ultrabook    13.3   \n",
       "\n",
       "                     ScreenResolution                         Cpu   Ram  \\\n",
       "0  IPS Panel Retina Display 2560x1600        Intel Core i5 2.3GHz   8GB   \n",
       "1                            1440x900        Intel Core i5 1.8GHz   8GB   \n",
       "2                   Full HD 1920x1080  Intel Core i5 7200U 2.5GHz   8GB   \n",
       "3  IPS Panel Retina Display 2880x1800        Intel Core i7 2.7GHz  16GB   \n",
       "4  IPS Panel Retina Display 2560x1600        Intel Core i5 3.1GHz   8GB   \n",
       "\n",
       "                Memory                           Gpu  OpSys  Weight  \\\n",
       "0            128GB SSD  Intel Iris Plus Graphics 640  macOS  1.37kg   \n",
       "1  128GB Flash Storage        Intel HD Graphics 6000  macOS  1.34kg   \n",
       "2            256GB SSD         Intel HD Graphics 620  No OS  1.86kg   \n",
       "3            512GB SSD            AMD Radeon Pro 455  macOS  1.83kg   \n",
       "4            256GB SSD  Intel Iris Plus Graphics 650  macOS  1.37kg   \n",
       "\n",
       "   Price_euros  \n",
       "0      1339.69  \n",
       "1       898.94  \n",
       "2       575.00  \n",
       "3      2537.45  \n",
       "4      1803.60  "
      ]
     },
     "execution_count": 2,
     "metadata": {},
     "output_type": "execute_result"
    }
   ],
   "source": [
    "df = pd.read_csv('laptop_price.csv')\n",
    "df.head()"
   ]
  },
  {
   "cell_type": "code",
   "execution_count": 3,
   "id": "06233eac",
   "metadata": {},
   "outputs": [],
   "source": [
    "df.drop(columns={'Unnamed: 0'}, inplace=True)"
   ]
  },
  {
   "cell_type": "code",
   "execution_count": 4,
   "id": "bbebe5c2",
   "metadata": {},
   "outputs": [
    {
     "data": {
      "text/html": [
       "<div>\n",
       "<style scoped>\n",
       "    .dataframe tbody tr th:only-of-type {\n",
       "        vertical-align: middle;\n",
       "    }\n",
       "\n",
       "    .dataframe tbody tr th {\n",
       "        vertical-align: top;\n",
       "    }\n",
       "\n",
       "    .dataframe thead th {\n",
       "        text-align: right;\n",
       "    }\n",
       "</style>\n",
       "<table border=\"1\" class=\"dataframe\">\n",
       "  <thead>\n",
       "    <tr style=\"text-align: right;\">\n",
       "      <th></th>\n",
       "      <th>Company</th>\n",
       "      <th>Product</th>\n",
       "      <th>TypeName</th>\n",
       "      <th>Inches</th>\n",
       "      <th>ScreenResolution</th>\n",
       "      <th>Cpu</th>\n",
       "      <th>Ram</th>\n",
       "      <th>Memory</th>\n",
       "      <th>Gpu</th>\n",
       "      <th>OpSys</th>\n",
       "      <th>Weight</th>\n",
       "      <th>Price_euros</th>\n",
       "    </tr>\n",
       "  </thead>\n",
       "  <tbody>\n",
       "    <tr>\n",
       "      <th>0</th>\n",
       "      <td>Apple</td>\n",
       "      <td>MacBook Pro</td>\n",
       "      <td>Ultrabook</td>\n",
       "      <td>13.3</td>\n",
       "      <td>IPS Panel Retina Display 2560x1600</td>\n",
       "      <td>Intel Core i5 2.3GHz</td>\n",
       "      <td>8GB</td>\n",
       "      <td>128GB SSD</td>\n",
       "      <td>Intel Iris Plus Graphics 640</td>\n",
       "      <td>macOS</td>\n",
       "      <td>1.37kg</td>\n",
       "      <td>1339.69</td>\n",
       "    </tr>\n",
       "    <tr>\n",
       "      <th>1</th>\n",
       "      <td>Apple</td>\n",
       "      <td>Macbook Air</td>\n",
       "      <td>Ultrabook</td>\n",
       "      <td>13.3</td>\n",
       "      <td>1440x900</td>\n",
       "      <td>Intel Core i5 1.8GHz</td>\n",
       "      <td>8GB</td>\n",
       "      <td>128GB Flash Storage</td>\n",
       "      <td>Intel HD Graphics 6000</td>\n",
       "      <td>macOS</td>\n",
       "      <td>1.34kg</td>\n",
       "      <td>898.94</td>\n",
       "    </tr>\n",
       "    <tr>\n",
       "      <th>2</th>\n",
       "      <td>HP</td>\n",
       "      <td>250 G6</td>\n",
       "      <td>Notebook</td>\n",
       "      <td>15.6</td>\n",
       "      <td>Full HD 1920x1080</td>\n",
       "      <td>Intel Core i5 7200U 2.5GHz</td>\n",
       "      <td>8GB</td>\n",
       "      <td>256GB SSD</td>\n",
       "      <td>Intel HD Graphics 620</td>\n",
       "      <td>No OS</td>\n",
       "      <td>1.86kg</td>\n",
       "      <td>575.00</td>\n",
       "    </tr>\n",
       "    <tr>\n",
       "      <th>3</th>\n",
       "      <td>Apple</td>\n",
       "      <td>MacBook Pro</td>\n",
       "      <td>Ultrabook</td>\n",
       "      <td>15.4</td>\n",
       "      <td>IPS Panel Retina Display 2880x1800</td>\n",
       "      <td>Intel Core i7 2.7GHz</td>\n",
       "      <td>16GB</td>\n",
       "      <td>512GB SSD</td>\n",
       "      <td>AMD Radeon Pro 455</td>\n",
       "      <td>macOS</td>\n",
       "      <td>1.83kg</td>\n",
       "      <td>2537.45</td>\n",
       "    </tr>\n",
       "    <tr>\n",
       "      <th>4</th>\n",
       "      <td>Apple</td>\n",
       "      <td>MacBook Pro</td>\n",
       "      <td>Ultrabook</td>\n",
       "      <td>13.3</td>\n",
       "      <td>IPS Panel Retina Display 2560x1600</td>\n",
       "      <td>Intel Core i5 3.1GHz</td>\n",
       "      <td>8GB</td>\n",
       "      <td>256GB SSD</td>\n",
       "      <td>Intel Iris Plus Graphics 650</td>\n",
       "      <td>macOS</td>\n",
       "      <td>1.37kg</td>\n",
       "      <td>1803.60</td>\n",
       "    </tr>\n",
       "  </tbody>\n",
       "</table>\n",
       "</div>"
      ],
      "text/plain": [
       "  Company      Product   TypeName  Inches                    ScreenResolution  \\\n",
       "0   Apple  MacBook Pro  Ultrabook    13.3  IPS Panel Retina Display 2560x1600   \n",
       "1   Apple  Macbook Air  Ultrabook    13.3                            1440x900   \n",
       "2      HP       250 G6   Notebook    15.6                   Full HD 1920x1080   \n",
       "3   Apple  MacBook Pro  Ultrabook    15.4  IPS Panel Retina Display 2880x1800   \n",
       "4   Apple  MacBook Pro  Ultrabook    13.3  IPS Panel Retina Display 2560x1600   \n",
       "\n",
       "                          Cpu   Ram               Memory  \\\n",
       "0        Intel Core i5 2.3GHz   8GB            128GB SSD   \n",
       "1        Intel Core i5 1.8GHz   8GB  128GB Flash Storage   \n",
       "2  Intel Core i5 7200U 2.5GHz   8GB            256GB SSD   \n",
       "3        Intel Core i7 2.7GHz  16GB            512GB SSD   \n",
       "4        Intel Core i5 3.1GHz   8GB            256GB SSD   \n",
       "\n",
       "                            Gpu  OpSys  Weight  Price_euros  \n",
       "0  Intel Iris Plus Graphics 640  macOS  1.37kg      1339.69  \n",
       "1        Intel HD Graphics 6000  macOS  1.34kg       898.94  \n",
       "2         Intel HD Graphics 620  No OS  1.86kg       575.00  \n",
       "3            AMD Radeon Pro 455  macOS  1.83kg      2537.45  \n",
       "4  Intel Iris Plus Graphics 650  macOS  1.37kg      1803.60  "
      ]
     },
     "execution_count": 4,
     "metadata": {},
     "output_type": "execute_result"
    }
   ],
   "source": [
    "df.head()"
   ]
  },
  {
   "cell_type": "code",
   "execution_count": 5,
   "id": "6b76439b",
   "metadata": {},
   "outputs": [
    {
     "data": {
      "text/plain": [
       "Company             0\n",
       "Product             0\n",
       "TypeName            0\n",
       "Inches              0\n",
       "ScreenResolution    0\n",
       "Cpu                 0\n",
       "Ram                 0\n",
       "Memory              0\n",
       "Gpu                 0\n",
       "OpSys               0\n",
       "Weight              0\n",
       "Price_euros         0\n",
       "dtype: int64"
      ]
     },
     "execution_count": 5,
     "metadata": {},
     "output_type": "execute_result"
    }
   ],
   "source": [
    "df.isnull().sum()"
   ]
  },
  {
   "cell_type": "code",
   "execution_count": 6,
   "id": "63f38118",
   "metadata": {},
   "outputs": [
    {
     "data": {
      "text/plain": [
       "28"
      ]
     },
     "execution_count": 6,
     "metadata": {},
     "output_type": "execute_result"
    }
   ],
   "source": [
    "df.duplicated().sum()"
   ]
  },
  {
   "cell_type": "markdown",
   "id": "9c6a1e45",
   "metadata": {},
   "source": [
    "## Feature Engineering"
   ]
  },
  {
   "cell_type": "markdown",
   "id": "18da232f",
   "metadata": {},
   "source": [
    "###  >> To convert Euro in Rupees"
   ]
  },
  {
   "cell_type": "code",
   "execution_count": 7,
   "id": "4553b282",
   "metadata": {},
   "outputs": [],
   "source": [
    "df['Price_euros'] = df['Price_euros']*84.52"
   ]
  },
  {
   "cell_type": "code",
   "execution_count": 8,
   "id": "e339c501",
   "metadata": {},
   "outputs": [],
   "source": [
    "df = df.rename(columns={'Price_euros':'Indian_Price'})"
   ]
  },
  {
   "cell_type": "code",
   "execution_count": null,
   "id": "5d3fcfbc",
   "metadata": {},
   "outputs": [],
   "source": []
  },
  {
   "cell_type": "markdown",
   "id": "b38d79ae",
   "metadata": {},
   "source": [
    "### >> Removing GB and Kg from Ram and Weight Columns"
   ]
  },
  {
   "cell_type": "code",
   "execution_count": 9,
   "id": "3ff135a1",
   "metadata": {},
   "outputs": [],
   "source": [
    "df['Ram'] = df['Ram'].str.replace('GB', '')\n",
    "df['Weight'] = df['Weight'].str.replace('kg', '')"
   ]
  },
  {
   "cell_type": "code",
   "execution_count": 10,
   "id": "637916f6",
   "metadata": {},
   "outputs": [
    {
     "data": {
      "text/html": [
       "<div>\n",
       "<style scoped>\n",
       "    .dataframe tbody tr th:only-of-type {\n",
       "        vertical-align: middle;\n",
       "    }\n",
       "\n",
       "    .dataframe tbody tr th {\n",
       "        vertical-align: top;\n",
       "    }\n",
       "\n",
       "    .dataframe thead th {\n",
       "        text-align: right;\n",
       "    }\n",
       "</style>\n",
       "<table border=\"1\" class=\"dataframe\">\n",
       "  <thead>\n",
       "    <tr style=\"text-align: right;\">\n",
       "      <th></th>\n",
       "      <th>Company</th>\n",
       "      <th>Product</th>\n",
       "      <th>TypeName</th>\n",
       "      <th>Inches</th>\n",
       "      <th>ScreenResolution</th>\n",
       "      <th>Cpu</th>\n",
       "      <th>Ram</th>\n",
       "      <th>Memory</th>\n",
       "      <th>Gpu</th>\n",
       "      <th>OpSys</th>\n",
       "      <th>Weight</th>\n",
       "      <th>Indian_Price</th>\n",
       "    </tr>\n",
       "  </thead>\n",
       "  <tbody>\n",
       "    <tr>\n",
       "      <th>0</th>\n",
       "      <td>Apple</td>\n",
       "      <td>MacBook Pro</td>\n",
       "      <td>Ultrabook</td>\n",
       "      <td>13.3</td>\n",
       "      <td>IPS Panel Retina Display 2560x1600</td>\n",
       "      <td>Intel Core i5 2.3GHz</td>\n",
       "      <td>8</td>\n",
       "      <td>128GB SSD</td>\n",
       "      <td>Intel Iris Plus Graphics 640</td>\n",
       "      <td>macOS</td>\n",
       "      <td>1.37</td>\n",
       "      <td>113230.5988</td>\n",
       "    </tr>\n",
       "  </tbody>\n",
       "</table>\n",
       "</div>"
      ],
      "text/plain": [
       "  Company      Product   TypeName  Inches                    ScreenResolution  \\\n",
       "0   Apple  MacBook Pro  Ultrabook    13.3  IPS Panel Retina Display 2560x1600   \n",
       "\n",
       "                    Cpu Ram     Memory                           Gpu  OpSys  \\\n",
       "0  Intel Core i5 2.3GHz   8  128GB SSD  Intel Iris Plus Graphics 640  macOS   \n",
       "\n",
       "  Weight  Indian_Price  \n",
       "0   1.37   113230.5988  "
      ]
     },
     "execution_count": 10,
     "metadata": {},
     "output_type": "execute_result"
    }
   ],
   "source": [
    "df.head(1)"
   ]
  },
  {
   "cell_type": "code",
   "execution_count": 11,
   "id": "63bfff9e",
   "metadata": {},
   "outputs": [],
   "source": [
    "df['Ram'] = df['Ram'].astype(int)\n",
    "df['Weight'] = df['Weight'].astype(float)"
   ]
  },
  {
   "cell_type": "code",
   "execution_count": 12,
   "id": "618a8e14",
   "metadata": {},
   "outputs": [
    {
     "data": {
      "text/plain": [
       "array(['128GB SSD', '128GB Flash Storage', '256GB SSD', '512GB SSD',\n",
       "       '500GB HDD', '256GB Flash Storage', '1TB HDD',\n",
       "       '32GB Flash Storage', '128GB SSD +  1TB HDD',\n",
       "       '256GB SSD +  256GB SSD', '64GB Flash Storage',\n",
       "       '256GB SSD +  1TB HDD', '256GB SSD +  2TB HDD', '32GB SSD',\n",
       "       '2TB HDD', '64GB SSD', '1.0TB Hybrid', '512GB SSD +  1TB HDD',\n",
       "       '1TB SSD', '256GB SSD +  500GB HDD', '128GB SSD +  2TB HDD',\n",
       "       '512GB SSD +  512GB SSD', '16GB SSD', '16GB Flash Storage',\n",
       "       '512GB SSD +  256GB SSD', '512GB SSD +  2TB HDD',\n",
       "       '64GB Flash Storage +  1TB HDD', '180GB SSD', '1TB HDD +  1TB HDD',\n",
       "       '32GB HDD', '1TB SSD +  1TB HDD', '512GB Flash Storage',\n",
       "       '128GB HDD', '240GB SSD', '8GB SSD', '508GB Hybrid', '1.0TB HDD',\n",
       "       '512GB SSD +  1.0TB Hybrid', '256GB SSD +  1.0TB Hybrid'],\n",
       "      dtype=object)"
      ]
     },
     "execution_count": 12,
     "metadata": {},
     "output_type": "execute_result"
    }
   ],
   "source": [
    "df['Memory'].unique()"
   ]
  },
  {
   "cell_type": "code",
   "execution_count": 13,
   "id": "d649b06d",
   "metadata": {},
   "outputs": [
    {
     "name": "stdout",
     "output_type": "stream",
     "text": [
      "<class 'pandas.core.frame.DataFrame'>\n",
      "RangeIndex: 1303 entries, 0 to 1302\n",
      "Data columns (total 12 columns):\n",
      " #   Column            Non-Null Count  Dtype  \n",
      "---  ------            --------------  -----  \n",
      " 0   Company           1303 non-null   object \n",
      " 1   Product           1303 non-null   object \n",
      " 2   TypeName          1303 non-null   object \n",
      " 3   Inches            1303 non-null   float64\n",
      " 4   ScreenResolution  1303 non-null   object \n",
      " 5   Cpu               1303 non-null   object \n",
      " 6   Ram               1303 non-null   int32  \n",
      " 7   Memory            1303 non-null   object \n",
      " 8   Gpu               1303 non-null   object \n",
      " 9   OpSys             1303 non-null   object \n",
      " 10  Weight            1303 non-null   float64\n",
      " 11  Indian_Price      1303 non-null   float64\n",
      "dtypes: float64(3), int32(1), object(8)\n",
      "memory usage: 117.2+ KB\n"
     ]
    }
   ],
   "source": [
    "df.info()"
   ]
  },
  {
   "cell_type": "code",
   "execution_count": 14,
   "id": "2839271e",
   "metadata": {},
   "outputs": [
    {
     "data": {
      "text/plain": [
       "array(['Apple', 'HP', 'Acer', 'Asus', 'Dell', 'Lenovo', 'Chuwi', 'MSI',\n",
       "       'Microsoft', 'Toshiba', 'Huawei', 'Xiaomi', 'Vero', 'Razer',\n",
       "       'Mediacom', 'Samsung', 'Google', 'Fujitsu', 'LG'], dtype=object)"
      ]
     },
     "execution_count": 14,
     "metadata": {},
     "output_type": "execute_result"
    }
   ],
   "source": [
    "df['Company'].unique()"
   ]
  },
  {
   "cell_type": "markdown",
   "id": "c2ab921f",
   "metadata": {},
   "source": [
    "## Data Anylsis"
   ]
  },
  {
   "cell_type": "code",
   "execution_count": 15,
   "id": "9dc48224",
   "metadata": {},
   "outputs": [
    {
     "name": "stderr",
     "output_type": "stream",
     "text": [
      "C:\\ProgramData\\Anaconda3\\lib\\site-packages\\seaborn\\distributions.py:2557: FutureWarning: `distplot` is a deprecated function and will be removed in a future version. Please adapt your code to use either `displot` (a figure-level function with similar flexibility) or `histplot` (an axes-level function for histograms).\n",
      "  warnings.warn(msg, FutureWarning)\n"
     ]
    },
    {
     "data": {
      "text/plain": [
       "<AxesSubplot:xlabel='Indian_Price', ylabel='Density'>"
      ]
     },
     "execution_count": 15,
     "metadata": {},
     "output_type": "execute_result"
    },
    {
     "data": {
      "image/png": "[encoded data removed]",
      "text/plain": [
       "<Figure size 432x288 with 1 Axes>"
      ]
     },
     "metadata": {
      "needs_background": "light"
     },
     "output_type": "display_data"
    }
   ],
   "source": [
    "sb.distplot(df['Indian_Price'])"
   ]
  },
  {
   "cell_type": "markdown",
   "id": "30938766",
   "metadata": {},
   "source": [
    "### सबसे ज्यादा बिकने वाले Laptops"
   ]
  },
  {
   "cell_type": "code",
   "execution_count": 16,
   "id": "16fb4c4e",
   "metadata": {},
   "outputs": [
    {
     "data": {
      "text/plain": [
       "<AxesSubplot:>"
      ]
     },
     "execution_count": 16,
     "metadata": {},
     "output_type": "execute_result"
    },
    {
     "data": {
      "image/png": "[encoded data removed]",
      "text/plain": [
       "<Figure size 432x288 with 1 Axes>"
      ]
     },
     "metadata": {
      "needs_background": "light"
     },
     "output_type": "display_data"
    }
   ],
   "source": [
    "df['Company'].value_counts().plot(kind='bar')"
   ]
  },
  {
   "cell_type": "code",
   "execution_count": 17,
   "id": "818a663e",
   "metadata": {},
   "outputs": [
    {
     "data": {
      "text/plain": [
       "<AxesSubplot:>"
      ]
     },
     "execution_count": 17,
     "metadata": {},
     "output_type": "execute_result"
    },
    {
     "data": {
      "image/png": "[encoded data removed]",
      "text/plain": [
       "<Figure size 432x288 with 1 Axes>"
      ]
     },
     "metadata": {
      "needs_background": "light"
     },
     "output_type": "display_data"
    }
   ],
   "source": [
    "df['TypeName'].value_counts().plot(kind='bar')"
   ]
  },
  {
   "cell_type": "markdown",
   "id": "2710f0b1",
   "metadata": {},
   "source": [
    "### सबसे महंगी company के Laptops "
   ]
  },
  {
   "cell_type": "code",
   "execution_count": 18,
   "id": "2d2b4998",
   "metadata": {},
   "outputs": [
    {
     "data": {
      "image/png": "[encoded data removed]",
      "text/plain": [
       "<Figure size 432x288 with 1 Axes>"
      ]
     },
     "metadata": {
      "needs_background": "light"
     },
     "output_type": "display_data"
    }
   ],
   "source": [
    "sb.barplot(x= df['Company'], y = df['Indian_Price'])\n",
    "plt.xticks(rotation = 'vertical')\n",
    "plt.show()"
   ]
  },
  {
   "cell_type": "markdown",
   "id": "a421a7c6",
   "metadata": {},
   "source": [
    "### Type of Laptop जो महंगा है । "
   ]
  },
  {
   "cell_type": "code",
   "execution_count": 19,
   "id": "146f5bfd",
   "metadata": {},
   "outputs": [
    {
     "data": {
      "image/png": "[encoded data removed]",
      "text/plain": [
       "<Figure size 432x288 with 1 Axes>"
      ]
     },
     "metadata": {
      "needs_background": "light"
     },
     "output_type": "display_data"
    }
   ],
   "source": [
    "sb.barplot(x= df['TypeName'], y = df['Indian_Price'])\n",
    "plt.xticks(rotation = 'vertical')\n",
    "plt.show()"
   ]
  },
  {
   "cell_type": "code",
   "execution_count": 20,
   "id": "06c3434c",
   "metadata": {},
   "outputs": [
    {
     "name": "stderr",
     "output_type": "stream",
     "text": [
      "C:\\ProgramData\\Anaconda3\\lib\\site-packages\\seaborn\\distributions.py:2557: FutureWarning: `distplot` is a deprecated function and will be removed in a future version. Please adapt your code to use either `displot` (a figure-level function with similar flexibility) or `histplot` (an axes-level function for histograms).\n",
      "  warnings.warn(msg, FutureWarning)\n"
     ]
    },
    {
     "data": {
      "text/plain": [
       "<AxesSubplot:xlabel='Inches', ylabel='Density'>"
      ]
     },
     "execution_count": 20,
     "metadata": {},
     "output_type": "execute_result"
    },
    {
     "data": {
      "image/png": "[encoded data removed]",
      "text/plain": [
       "<Figure size 432x288 with 1 Axes>"
      ]
     },
     "metadata": {
      "needs_background": "light"
     },
     "output_type": "display_data"
    }
   ],
   "source": [
    "sb.distplot(df['Inches'])"
   ]
  },
  {
   "cell_type": "markdown",
   "id": "ba684179",
   "metadata": {},
   "source": [
    "### जो laptops 16 inches की है वो सबसे ज्यादा है । "
   ]
  },
  {
   "cell_type": "code",
   "execution_count": 21,
   "id": "2fdedcd0",
   "metadata": {},
   "outputs": [
    {
     "name": "stdout",
     "output_type": "stream",
     "text": [
      "<class 'pandas.core.frame.DataFrame'>\n",
      "RangeIndex: 1303 entries, 0 to 1302\n",
      "Data columns (total 12 columns):\n",
      " #   Column            Non-Null Count  Dtype  \n",
      "---  ------            --------------  -----  \n",
      " 0   Company           1303 non-null   object \n",
      " 1   Product           1303 non-null   object \n",
      " 2   TypeName          1303 non-null   object \n",
      " 3   Inches            1303 non-null   float64\n",
      " 4   ScreenResolution  1303 non-null   object \n",
      " 5   Cpu               1303 non-null   object \n",
      " 6   Ram               1303 non-null   int32  \n",
      " 7   Memory            1303 non-null   object \n",
      " 8   Gpu               1303 non-null   object \n",
      " 9   OpSys             1303 non-null   object \n",
      " 10  Weight            1303 non-null   float64\n",
      " 11  Indian_Price      1303 non-null   float64\n",
      "dtypes: float64(3), int32(1), object(8)\n",
      "memory usage: 117.2+ KB\n"
     ]
    }
   ],
   "source": [
    " df.info()"
   ]
  },
  {
   "cell_type": "code",
   "execution_count": null,
   "id": "b4eb9956",
   "metadata": {},
   "outputs": [],
   "source": []
  },
  {
   "cell_type": "code",
   "execution_count": null,
   "id": "e471fcfb",
   "metadata": {},
   "outputs": [],
   "source": []
  },
  {
   "cell_type": "code",
   "execution_count": null,
   "id": "03ea058e",
   "metadata": {},
   "outputs": [],
   "source": []
  },
  {
   "cell_type": "code",
   "execution_count": 22,
   "id": "a56ddbe2",
   "metadata": {},
   "outputs": [
    {
     "data": {
      "text/plain": [
       "Full HD 1920x1080                                507\n",
       "1366x768                                         281\n",
       "IPS Panel Full HD 1920x1080                      230\n",
       "IPS Panel Full HD / Touchscreen 1920x1080         53\n",
       "Full HD / Touchscreen 1920x1080                   47\n",
       "1600x900                                          23\n",
       "Touchscreen 1366x768                              16\n",
       "Quad HD+ / Touchscreen 3200x1800                  15\n",
       "IPS Panel 4K Ultra HD 3840x2160                   12\n",
       "IPS Panel 4K Ultra HD / Touchscreen 3840x2160     11\n",
       "4K Ultra HD / Touchscreen 3840x2160               10\n",
       "4K Ultra HD 3840x2160                              7\n",
       "IPS Panel 1366x768                                 7\n",
       "Touchscreen 2560x1440                              7\n",
       "IPS Panel Retina Display 2560x1600                 6\n",
       "IPS Panel Retina Display 2304x1440                 6\n",
       "IPS Panel Quad HD+ / Touchscreen 3200x1800         6\n",
       "Touchscreen 2256x1504                              6\n",
       "IPS Panel Touchscreen 2560x1440                    5\n",
       "IPS Panel Retina Display 2880x1800                 4\n",
       "IPS Panel Touchscreen 1920x1200                    4\n",
       "IPS Panel 2560x1440                                4\n",
       "1440x900                                           4\n",
       "IPS Panel Quad HD+ 2560x1440                       3\n",
       "Touchscreen 2400x1600                              3\n",
       "2560x1440                                          3\n",
       "1920x1080                                          3\n",
       "Quad HD+ 3200x1800                                 3\n",
       "IPS Panel Touchscreen 1366x768                     3\n",
       "IPS Panel Quad HD+ 3200x1800                       2\n",
       "IPS Panel Touchscreen / 4K Ultra HD 3840x2160      2\n",
       "IPS Panel Full HD 2160x1440                        2\n",
       "Touchscreen / 4K Ultra HD 3840x2160                1\n",
       "Touchscreen / Full HD 1920x1080                    1\n",
       "IPS Panel Full HD 2560x1440                        1\n",
       "IPS Panel Full HD 1366x768                         1\n",
       "IPS Panel Touchscreen 2400x1600                    1\n",
       "IPS Panel Full HD 1920x1200                        1\n",
       "IPS Panel Retina Display 2736x1824                 1\n",
       "Touchscreen / Quad HD+ 3200x1800                   1\n",
       "Name: ScreenResolution, dtype: int64"
      ]
     },
     "execution_count": 22,
     "metadata": {},
     "output_type": "execute_result"
    }
   ],
   "source": [
    "df['ScreenResolution'].value_counts()"
   ]
  },
  {
   "cell_type": "code",
   "execution_count": 23,
   "id": "455da45b",
   "metadata": {},
   "outputs": [],
   "source": [
    "df['Touchscreen'] = df['ScreenResolution'].apply(lambda x:1 if 'Touchscreen' in x else 0)"
   ]
  },
  {
   "cell_type": "code",
   "execution_count": 24,
   "id": "46cc3f8c",
   "metadata": {},
   "outputs": [
    {
     "data": {
      "text/html": [
       "<div>\n",
       "<style scoped>\n",
       "    .dataframe tbody tr th:only-of-type {\n",
       "        vertical-align: middle;\n",
       "    }\n",
       "\n",
       "    .dataframe tbody tr th {\n",
       "        vertical-align: top;\n",
       "    }\n",
       "\n",
       "    .dataframe thead th {\n",
       "        text-align: right;\n",
       "    }\n",
       "</style>\n",
       "<table border=\"1\" class=\"dataframe\">\n",
       "  <thead>\n",
       "    <tr style=\"text-align: right;\">\n",
       "      <th></th>\n",
       "      <th>Company</th>\n",
       "      <th>Product</th>\n",
       "      <th>TypeName</th>\n",
       "      <th>Inches</th>\n",
       "      <th>ScreenResolution</th>\n",
       "      <th>Cpu</th>\n",
       "      <th>Ram</th>\n",
       "      <th>Memory</th>\n",
       "      <th>Gpu</th>\n",
       "      <th>OpSys</th>\n",
       "      <th>Weight</th>\n",
       "      <th>Indian_Price</th>\n",
       "      <th>Touchscreen</th>\n",
       "    </tr>\n",
       "  </thead>\n",
       "  <tbody>\n",
       "    <tr>\n",
       "      <th>0</th>\n",
       "      <td>Apple</td>\n",
       "      <td>MacBook Pro</td>\n",
       "      <td>Ultrabook</td>\n",
       "      <td>13.3</td>\n",
       "      <td>IPS Panel Retina Display 2560x1600</td>\n",
       "      <td>Intel Core i5 2.3GHz</td>\n",
       "      <td>8</td>\n",
       "      <td>128GB SSD</td>\n",
       "      <td>Intel Iris Plus Graphics 640</td>\n",
       "      <td>macOS</td>\n",
       "      <td>1.37</td>\n",
       "      <td>113230.5988</td>\n",
       "      <td>0</td>\n",
       "    </tr>\n",
       "    <tr>\n",
       "      <th>1</th>\n",
       "      <td>Apple</td>\n",
       "      <td>Macbook Air</td>\n",
       "      <td>Ultrabook</td>\n",
       "      <td>13.3</td>\n",
       "      <td>1440x900</td>\n",
       "      <td>Intel Core i5 1.8GHz</td>\n",
       "      <td>8</td>\n",
       "      <td>128GB Flash Storage</td>\n",
       "      <td>Intel HD Graphics 6000</td>\n",
       "      <td>macOS</td>\n",
       "      <td>1.34</td>\n",
       "      <td>75978.4088</td>\n",
       "      <td>0</td>\n",
       "    </tr>\n",
       "  </tbody>\n",
       "</table>\n",
       "</div>"
      ],
      "text/plain": [
       "  Company      Product   TypeName  Inches                    ScreenResolution  \\\n",
       "0   Apple  MacBook Pro  Ultrabook    13.3  IPS Panel Retina Display 2560x1600   \n",
       "1   Apple  Macbook Air  Ultrabook    13.3                            1440x900   \n",
       "\n",
       "                    Cpu  Ram               Memory  \\\n",
       "0  Intel Core i5 2.3GHz    8            128GB SSD   \n",
       "1  Intel Core i5 1.8GHz    8  128GB Flash Storage   \n",
       "\n",
       "                            Gpu  OpSys  Weight  Indian_Price  Touchscreen  \n",
       "0  Intel Iris Plus Graphics 640  macOS    1.37   113230.5988            0  \n",
       "1        Intel HD Graphics 6000  macOS    1.34    75978.4088            0  "
      ]
     },
     "execution_count": 24,
     "metadata": {},
     "output_type": "execute_result"
    }
   ],
   "source": [
    "df.head(2)"
   ]
  },
  {
   "cell_type": "code",
   "execution_count": 25,
   "id": "078a0347",
   "metadata": {},
   "outputs": [
    {
     "data": {
      "text/plain": [
       "<AxesSubplot:>"
      ]
     },
     "execution_count": 25,
     "metadata": {},
     "output_type": "execute_result"
    },
    {
     "data": {
      "image/png": "[encoded data removed]",
      "text/plain": [
       "<Figure size 432x288 with 1 Axes>"
      ]
     },
     "metadata": {
      "needs_background": "light"
     },
     "output_type": "display_data"
    }
   ],
   "source": [
    "df['Touchscreen'].value_counts().plot(kind='bar')"
   ]
  },
  {
   "cell_type": "markdown",
   "id": "0f958262",
   "metadata": {},
   "source": [
    "#### मतलब की --- Touchscreen की Qualtity कम है । "
   ]
  },
  {
   "cell_type": "code",
   "execution_count": null,
   "id": "714f2df0",
   "metadata": {},
   "outputs": [],
   "source": []
  },
  {
   "cell_type": "code",
   "execution_count": 26,
   "id": "15c8c973",
   "metadata": {},
   "outputs": [
    {
     "data": {
      "text/plain": [
       "<AxesSubplot:xlabel='Touchscreen', ylabel='Indian_Price'>"
      ]
     },
     "execution_count": 26,
     "metadata": {},
     "output_type": "execute_result"
    },
    {
     "data": {
      "image/png": "[encoded data removed]",
      "text/plain": [
       "<Figure size 432x288 with 1 Axes>"
      ]
     },
     "metadata": {
      "needs_background": "light"
     },
     "output_type": "display_data"
    }
   ],
   "source": [
    "sb.barplot(x = df['Touchscreen'], y=df['Indian_Price'])"
   ]
  },
  {
   "cell_type": "markdown",
   "id": "fa0d2dc5",
   "metadata": {},
   "source": [
    "#### IPS  का new column create करेंगे जो laptop IPS diplay की होंगी वो 1 होगा । "
   ]
  },
  {
   "cell_type": "code",
   "execution_count": 27,
   "id": "58d4d87f",
   "metadata": {},
   "outputs": [],
   "source": [
    "df['IPS'] = df['ScreenResolution'].apply(lambda x:1 if 'IPS' in x else 0)"
   ]
  },
  {
   "cell_type": "code",
   "execution_count": 28,
   "id": "fc676a12",
   "metadata": {},
   "outputs": [
    {
     "data": {
      "text/html": [
       "<div>\n",
       "<style scoped>\n",
       "    .dataframe tbody tr th:only-of-type {\n",
       "        vertical-align: middle;\n",
       "    }\n",
       "\n",
       "    .dataframe tbody tr th {\n",
       "        vertical-align: top;\n",
       "    }\n",
       "\n",
       "    .dataframe thead th {\n",
       "        text-align: right;\n",
       "    }\n",
       "</style>\n",
       "<table border=\"1\" class=\"dataframe\">\n",
       "  <thead>\n",
       "    <tr style=\"text-align: right;\">\n",
       "      <th></th>\n",
       "      <th>Company</th>\n",
       "      <th>Product</th>\n",
       "      <th>TypeName</th>\n",
       "      <th>Inches</th>\n",
       "      <th>ScreenResolution</th>\n",
       "      <th>Cpu</th>\n",
       "      <th>Ram</th>\n",
       "      <th>Memory</th>\n",
       "      <th>Gpu</th>\n",
       "      <th>OpSys</th>\n",
       "      <th>Weight</th>\n",
       "      <th>Indian_Price</th>\n",
       "      <th>Touchscreen</th>\n",
       "      <th>IPS</th>\n",
       "    </tr>\n",
       "  </thead>\n",
       "  <tbody>\n",
       "    <tr>\n",
       "      <th>0</th>\n",
       "      <td>Apple</td>\n",
       "      <td>MacBook Pro</td>\n",
       "      <td>Ultrabook</td>\n",
       "      <td>13.3</td>\n",
       "      <td>IPS Panel Retina Display 2560x1600</td>\n",
       "      <td>Intel Core i5 2.3GHz</td>\n",
       "      <td>8</td>\n",
       "      <td>128GB SSD</td>\n",
       "      <td>Intel Iris Plus Graphics 640</td>\n",
       "      <td>macOS</td>\n",
       "      <td>1.37</td>\n",
       "      <td>113230.5988</td>\n",
       "      <td>0</td>\n",
       "      <td>1</td>\n",
       "    </tr>\n",
       "  </tbody>\n",
       "</table>\n",
       "</div>"
      ],
      "text/plain": [
       "  Company      Product   TypeName  Inches                    ScreenResolution  \\\n",
       "0   Apple  MacBook Pro  Ultrabook    13.3  IPS Panel Retina Display 2560x1600   \n",
       "\n",
       "                    Cpu  Ram     Memory                           Gpu  OpSys  \\\n",
       "0  Intel Core i5 2.3GHz    8  128GB SSD  Intel Iris Plus Graphics 640  macOS   \n",
       "\n",
       "   Weight  Indian_Price  Touchscreen  IPS  \n",
       "0    1.37   113230.5988            0    1  "
      ]
     },
     "execution_count": 28,
     "metadata": {},
     "output_type": "execute_result"
    }
   ],
   "source": [
    "df.head(1)"
   ]
  },
  {
   "cell_type": "code",
   "execution_count": null,
   "id": "773dcd52",
   "metadata": {},
   "outputs": [],
   "source": []
  },
  {
   "cell_type": "code",
   "execution_count": 29,
   "id": "2b646292",
   "metadata": {},
   "outputs": [
    {
     "data": {
      "text/plain": [
       "<AxesSubplot:>"
      ]
     },
     "execution_count": 29,
     "metadata": {},
     "output_type": "execute_result"
    },
    {
     "data": {
      "image/png": "[encoded data removed]",
      "text/plain": [
       "<Figure size 432x288 with 1 Axes>"
      ]
     },
     "metadata": {
      "needs_background": "light"
     },
     "output_type": "display_data"
    }
   ],
   "source": [
    "df['IPS'].value_counts().plot(kind='bar')"
   ]
  },
  {
   "cell_type": "markdown",
   "id": "77ef5a42",
   "metadata": {},
   "source": [
    "### अब ScreenResolution मे जहा पे x है वहाँ से split करेंगे "
   ]
  },
  {
   "cell_type": "code",
   "execution_count": 30,
   "id": "2b46b587",
   "metadata": {},
   "outputs": [
    {
     "data": {
      "text/plain": [
       "0               [IPS Panel Retina Display 2560, 1600]\n",
       "1                                         [1440, 900]\n",
       "2                                [Full HD 1920, 1080]\n",
       "3               [IPS Panel Retina Display 2880, 1800]\n",
       "4               [IPS Panel Retina Display 2560, 1600]\n",
       "                            ...                      \n",
       "1298     [IPS Panel Full HD / Touchscreen 1920, 1080]\n",
       "1299    [IPS Panel Quad HD+ / Touchscreen 3200, 1800]\n",
       "1300                                      [1366, 768]\n",
       "1301                                      [1366, 768]\n",
       "1302                                      [1366, 768]\n",
       "Name: ScreenResolution, Length: 1303, dtype: object"
      ]
     },
     "execution_count": 30,
     "metadata": {},
     "output_type": "execute_result"
    }
   ],
   "source": [
    "df['ScreenResolution'].str.split('x')"
   ]
  },
  {
   "cell_type": "code",
   "execution_count": 31,
   "id": "ba7442d9",
   "metadata": {},
   "outputs": [
    {
     "data": {
      "text/html": [
       "<div>\n",
       "<style scoped>\n",
       "    .dataframe tbody tr th:only-of-type {\n",
       "        vertical-align: middle;\n",
       "    }\n",
       "\n",
       "    .dataframe tbody tr th {\n",
       "        vertical-align: top;\n",
       "    }\n",
       "\n",
       "    .dataframe thead th {\n",
       "        text-align: right;\n",
       "    }\n",
       "</style>\n",
       "<table border=\"1\" class=\"dataframe\">\n",
       "  <thead>\n",
       "    <tr style=\"text-align: right;\">\n",
       "      <th></th>\n",
       "      <th>0</th>\n",
       "      <th>1</th>\n",
       "    </tr>\n",
       "  </thead>\n",
       "  <tbody>\n",
       "    <tr>\n",
       "      <th>0</th>\n",
       "      <td>IPS Panel Retina Display 2560</td>\n",
       "      <td>1600</td>\n",
       "    </tr>\n",
       "    <tr>\n",
       "      <th>1</th>\n",
       "      <td>1440</td>\n",
       "      <td>900</td>\n",
       "    </tr>\n",
       "    <tr>\n",
       "      <th>2</th>\n",
       "      <td>Full HD 1920</td>\n",
       "      <td>1080</td>\n",
       "    </tr>\n",
       "    <tr>\n",
       "      <th>3</th>\n",
       "      <td>IPS Panel Retina Display 2880</td>\n",
       "      <td>1800</td>\n",
       "    </tr>\n",
       "    <tr>\n",
       "      <th>4</th>\n",
       "      <td>IPS Panel Retina Display 2560</td>\n",
       "      <td>1600</td>\n",
       "    </tr>\n",
       "    <tr>\n",
       "      <th>...</th>\n",
       "      <td>...</td>\n",
       "      <td>...</td>\n",
       "    </tr>\n",
       "    <tr>\n",
       "      <th>1298</th>\n",
       "      <td>IPS Panel Full HD / Touchscreen 1920</td>\n",
       "      <td>1080</td>\n",
       "    </tr>\n",
       "    <tr>\n",
       "      <th>1299</th>\n",
       "      <td>IPS Panel Quad HD+ / Touchscreen 3200</td>\n",
       "      <td>1800</td>\n",
       "    </tr>\n",
       "    <tr>\n",
       "      <th>1300</th>\n",
       "      <td>1366</td>\n",
       "      <td>768</td>\n",
       "    </tr>\n",
       "    <tr>\n",
       "      <th>1301</th>\n",
       "      <td>1366</td>\n",
       "      <td>768</td>\n",
       "    </tr>\n",
       "    <tr>\n",
       "      <th>1302</th>\n",
       "      <td>1366</td>\n",
       "      <td>768</td>\n",
       "    </tr>\n",
       "  </tbody>\n",
       "</table>\n",
       "<p>1303 rows × 2 columns</p>\n",
       "</div>"
      ],
      "text/plain": [
       "                                          0     1\n",
       "0             IPS Panel Retina Display 2560  1600\n",
       "1                                      1440   900\n",
       "2                              Full HD 1920  1080\n",
       "3             IPS Panel Retina Display 2880  1800\n",
       "4             IPS Panel Retina Display 2560  1600\n",
       "...                                     ...   ...\n",
       "1298   IPS Panel Full HD / Touchscreen 1920  1080\n",
       "1299  IPS Panel Quad HD+ / Touchscreen 3200  1800\n",
       "1300                                   1366   768\n",
       "1301                                   1366   768\n",
       "1302                                   1366   768\n",
       "\n",
       "[1303 rows x 2 columns]"
      ]
     },
     "execution_count": 31,
     "metadata": {},
     "output_type": "execute_result"
    }
   ],
   "source": [
    "df['ScreenResolution'].str.split('x', n = 1, expand=True)"
   ]
  },
  {
   "cell_type": "code",
   "execution_count": 32,
   "id": "19889556",
   "metadata": {},
   "outputs": [],
   "source": [
    "new = df['ScreenResolution'].str.split('x', n = 1, expand=True)"
   ]
  },
  {
   "cell_type": "code",
   "execution_count": 33,
   "id": "d92835cc",
   "metadata": {},
   "outputs": [],
   "source": [
    "df['X_resolution'] = new[0]\n",
    "df['Y_resolution'] = new[1]"
   ]
  },
  {
   "cell_type": "code",
   "execution_count": 34,
   "id": "df59bec2",
   "metadata": {},
   "outputs": [
    {
     "data": {
      "text/html": [
       "<div>\n",
       "<style scoped>\n",
       "    .dataframe tbody tr th:only-of-type {\n",
       "        vertical-align: middle;\n",
       "    }\n",
       "\n",
       "    .dataframe tbody tr th {\n",
       "        vertical-align: top;\n",
       "    }\n",
       "\n",
       "    .dataframe thead th {\n",
       "        text-align: right;\n",
       "    }\n",
       "</style>\n",
       "<table border=\"1\" class=\"dataframe\">\n",
       "  <thead>\n",
       "    <tr style=\"text-align: right;\">\n",
       "      <th></th>\n",
       "      <th>Company</th>\n",
       "      <th>Product</th>\n",
       "      <th>TypeName</th>\n",
       "      <th>Inches</th>\n",
       "      <th>ScreenResolution</th>\n",
       "      <th>Cpu</th>\n",
       "      <th>Ram</th>\n",
       "      <th>Memory</th>\n",
       "      <th>Gpu</th>\n",
       "      <th>OpSys</th>\n",
       "      <th>Weight</th>\n",
       "      <th>Indian_Price</th>\n",
       "      <th>Touchscreen</th>\n",
       "      <th>IPS</th>\n",
       "      <th>X_resolution</th>\n",
       "      <th>Y_resolution</th>\n",
       "    </tr>\n",
       "  </thead>\n",
       "  <tbody>\n",
       "    <tr>\n",
       "      <th>0</th>\n",
       "      <td>Apple</td>\n",
       "      <td>MacBook Pro</td>\n",
       "      <td>Ultrabook</td>\n",
       "      <td>13.3</td>\n",
       "      <td>IPS Panel Retina Display 2560x1600</td>\n",
       "      <td>Intel Core i5 2.3GHz</td>\n",
       "      <td>8</td>\n",
       "      <td>128GB SSD</td>\n",
       "      <td>Intel Iris Plus Graphics 640</td>\n",
       "      <td>macOS</td>\n",
       "      <td>1.37</td>\n",
       "      <td>113230.5988</td>\n",
       "      <td>0</td>\n",
       "      <td>1</td>\n",
       "      <td>IPS Panel Retina Display 2560</td>\n",
       "      <td>1600</td>\n",
       "    </tr>\n",
       "  </tbody>\n",
       "</table>\n",
       "</div>"
      ],
      "text/plain": [
       "  Company      Product   TypeName  Inches                    ScreenResolution  \\\n",
       "0   Apple  MacBook Pro  Ultrabook    13.3  IPS Panel Retina Display 2560x1600   \n",
       "\n",
       "                    Cpu  Ram     Memory                           Gpu  OpSys  \\\n",
       "0  Intel Core i5 2.3GHz    8  128GB SSD  Intel Iris Plus Graphics 640  macOS   \n",
       "\n",
       "   Weight  Indian_Price  Touchscreen  IPS                   X_resolution  \\\n",
       "0    1.37   113230.5988            0    1  IPS Panel Retina Display 2560   \n",
       "\n",
       "  Y_resolution  \n",
       "0         1600  "
      ]
     },
     "execution_count": 34,
     "metadata": {},
     "output_type": "execute_result"
    }
   ],
   "source": [
    "df.head(1)"
   ]
  },
  {
   "cell_type": "code",
   "execution_count": 35,
   "id": "39771afa",
   "metadata": {},
   "outputs": [
    {
     "data": {
      "text/plain": [
       "0               IPS Panel Retina Display 2560\n",
       "1                                        1440\n",
       "2                                Full HD 1920\n",
       "3               IPS Panel Retina Display 2880\n",
       "4               IPS Panel Retina Display 2560\n",
       "                        ...                  \n",
       "1298     IPS Panel Full HD / Touchscreen 1920\n",
       "1299    IPS Panel Quad HD+ / Touchscreen 3200\n",
       "1300                                     1366\n",
       "1301                                     1366\n",
       "1302                                     1366\n",
       "Name: X_resolution, Length: 1303, dtype: object"
      ]
     },
     "execution_count": 35,
     "metadata": {},
     "output_type": "execute_result"
    }
   ],
   "source": [
    "df['X_resolution']"
   ]
  },
  {
   "cell_type": "markdown",
   "id": "13622ddf",
   "metadata": {},
   "source": [
    "#### X_resolution वाले column को clean करना पड़ेगा "
   ]
  },
  {
   "cell_type": "code",
   "execution_count": 36,
   "id": "076fb760",
   "metadata": {},
   "outputs": [],
   "source": [
    "df['X_resolution'] = df['X_resolution'].str.extract('(\\d\\d\\d\\d)', expand = True)"
   ]
  },
  {
   "cell_type": "markdown",
   "id": "3236ec43",
   "metadata": {},
   "source": [
    "#### X_resolution & Y_resolution को integer data type मे बदल देंगे "
   ]
  },
  {
   "cell_type": "code",
   "execution_count": 37,
   "id": "64941fba",
   "metadata": {},
   "outputs": [],
   "source": [
    "df['X_resolution'] = df['X_resolution'].astype(int)\n",
    "df['Y_resolution'] = df['Y_resolution'].astype(int)"
   ]
  },
  {
   "cell_type": "code",
   "execution_count": 38,
   "id": "953eb519",
   "metadata": {},
   "outputs": [
    {
     "name": "stdout",
     "output_type": "stream",
     "text": [
      "<class 'pandas.core.frame.DataFrame'>\n",
      "RangeIndex: 1303 entries, 0 to 1302\n",
      "Data columns (total 16 columns):\n",
      " #   Column            Non-Null Count  Dtype  \n",
      "---  ------            --------------  -----  \n",
      " 0   Company           1303 non-null   object \n",
      " 1   Product           1303 non-null   object \n",
      " 2   TypeName          1303 non-null   object \n",
      " 3   Inches            1303 non-null   float64\n",
      " 4   ScreenResolution  1303 non-null   object \n",
      " 5   Cpu               1303 non-null   object \n",
      " 6   Ram               1303 non-null   int32  \n",
      " 7   Memory            1303 non-null   object \n",
      " 8   Gpu               1303 non-null   object \n",
      " 9   OpSys             1303 non-null   object \n",
      " 10  Weight            1303 non-null   float64\n",
      " 11  Indian_Price      1303 non-null   float64\n",
      " 12  Touchscreen       1303 non-null   int64  \n",
      " 13  IPS               1303 non-null   int64  \n",
      " 14  X_resolution      1303 non-null   int32  \n",
      " 15  Y_resolution      1303 non-null   int32  \n",
      "dtypes: float64(3), int32(3), int64(2), object(8)\n",
      "memory usage: 147.7+ KB\n"
     ]
    }
   ],
   "source": [
    "df.info()"
   ]
  },
  {
   "cell_type": "code",
   "execution_count": 39,
   "id": "613f8d7f",
   "metadata": {},
   "outputs": [
    {
     "data": {
      "text/plain": [
       "Inches          0.068197\n",
       "Ram             0.743007\n",
       "Weight          0.210370\n",
       "Indian_Price    1.000000\n",
       "Touchscreen     0.191226\n",
       "IPS             0.252208\n",
       "X_resolution    0.556529\n",
       "Y_resolution    0.552809\n",
       "Name: Indian_Price, dtype: float64"
      ]
     },
     "execution_count": 39,
     "metadata": {},
     "output_type": "execute_result"
    }
   ],
   "source": [
    "df.corr()['Indian_Price']"
   ]
  },
  {
   "cell_type": "markdown",
   "id": "95daa006",
   "metadata": {},
   "source": [
    "### अब हमे pixel per inch निकालना है "
   ]
  },
  {
   "cell_type": "code",
   "execution_count": 40,
   "id": "889ac3ec",
   "metadata": {},
   "outputs": [
    {
     "data": {
      "text/plain": [
       "0       226.983005\n",
       "1       127.677940\n",
       "2       141.211998\n",
       "3       220.534624\n",
       "4       226.983005\n",
       "           ...    \n",
       "1298    157.350512\n",
       "1299    276.053530\n",
       "1300    111.935204\n",
       "1301    100.454670\n",
       "1302    100.454670\n",
       "Length: 1303, dtype: float64"
      ]
     },
     "execution_count": 40,
     "metadata": {},
     "output_type": "execute_result"
    }
   ],
   "source": [
    "(df['X_resolution']**2 + df['Y_resolution']**2)**0.5/df['Inches']"
   ]
  },
  {
   "cell_type": "code",
   "execution_count": 41,
   "id": "738fdc29",
   "metadata": {},
   "outputs": [],
   "source": [
    "df['PPI'] = (df['X_resolution']**2 + df['Y_resolution']**2)**0.5/df['Inches'].astype(float)"
   ]
  },
  {
   "cell_type": "code",
   "execution_count": 42,
   "id": "3f86638c",
   "metadata": {},
   "outputs": [
    {
     "data": {
      "text/plain": [
       "Inches          0.068197\n",
       "Ram             0.743007\n",
       "Weight          0.210370\n",
       "Indian_Price    1.000000\n",
       "Touchscreen     0.191226\n",
       "IPS             0.252208\n",
       "X_resolution    0.556529\n",
       "Y_resolution    0.552809\n",
       "PPI             0.473487\n",
       "Name: Indian_Price, dtype: float64"
      ]
     },
     "execution_count": 42,
     "metadata": {},
     "output_type": "execute_result"
    }
   ],
   "source": [
    "df.corr()['Indian_Price']"
   ]
  },
  {
   "cell_type": "code",
   "execution_count": 43,
   "id": "cdf78262",
   "metadata": {},
   "outputs": [],
   "source": [
    "df = df.drop(columns = ['X_resolution', 'Y_resolution', 'Inches','ScreenResolution'])"
   ]
  },
  {
   "cell_type": "code",
   "execution_count": 44,
   "id": "823f5d0c",
   "metadata": {},
   "outputs": [
    {
     "data": {
      "text/plain": [
       "array(['macOS', 'No OS', 'Windows 10', 'Mac OS X', 'Linux', 'Android',\n",
       "       'Windows 10 S', 'Chrome OS', 'Windows 7'], dtype=object)"
      ]
     },
     "execution_count": 44,
     "metadata": {},
     "output_type": "execute_result"
    }
   ],
   "source": [
    "df['OpSys'].unique()"
   ]
  },
  {
   "cell_type": "code",
   "execution_count": 45,
   "id": "3e1cc359",
   "metadata": {},
   "outputs": [
    {
     "data": {
      "text/plain": [
       "Intel Core i5 7200U 2.5GHz     190\n",
       "Intel Core i7 7700HQ 2.8GHz    146\n",
       "Intel Core i7 7500U 2.7GHz     134\n",
       "Intel Core i7 8550U 1.8GHz      73\n",
       "Intel Core i5 8250U 1.6GHz      72\n",
       "                              ... \n",
       "AMD A6-Series 9220 2.9GHz        1\n",
       "Intel Core i5 6260U 1.8GHz       1\n",
       "AMD E-Series E2-6110 1.5GHz      1\n",
       "Intel Core i5 2.9GHz             1\n",
       "Intel Core i5 7200U 2.50GHz      1\n",
       "Name: Cpu, Length: 118, dtype: int64"
      ]
     },
     "execution_count": 45,
     "metadata": {},
     "output_type": "execute_result"
    }
   ],
   "source": [
    "df['Cpu'].value_counts()"
   ]
  },
  {
   "cell_type": "code",
   "execution_count": 46,
   "id": "03190b20",
   "metadata": {},
   "outputs": [],
   "source": [
    "df[\"CPU_name\"] = df['Cpu'].apply(lambda x:\" \".join(x.split()[0:3]))"
   ]
  },
  {
   "cell_type": "code",
   "execution_count": 47,
   "id": "97450461",
   "metadata": {},
   "outputs": [
    {
     "data": {
      "text/html": [
       "<div>\n",
       "<style scoped>\n",
       "    .dataframe tbody tr th:only-of-type {\n",
       "        vertical-align: middle;\n",
       "    }\n",
       "\n",
       "    .dataframe tbody tr th {\n",
       "        vertical-align: top;\n",
       "    }\n",
       "\n",
       "    .dataframe thead th {\n",
       "        text-align: right;\n",
       "    }\n",
       "</style>\n",
       "<table border=\"1\" class=\"dataframe\">\n",
       "  <thead>\n",
       "    <tr style=\"text-align: right;\">\n",
       "      <th></th>\n",
       "      <th>Company</th>\n",
       "      <th>Product</th>\n",
       "      <th>TypeName</th>\n",
       "      <th>Cpu</th>\n",
       "      <th>Ram</th>\n",
       "      <th>Memory</th>\n",
       "      <th>Gpu</th>\n",
       "      <th>OpSys</th>\n",
       "      <th>Weight</th>\n",
       "      <th>Indian_Price</th>\n",
       "      <th>Touchscreen</th>\n",
       "      <th>IPS</th>\n",
       "      <th>PPI</th>\n",
       "      <th>CPU_name</th>\n",
       "    </tr>\n",
       "  </thead>\n",
       "  <tbody>\n",
       "    <tr>\n",
       "      <th>0</th>\n",
       "      <td>Apple</td>\n",
       "      <td>MacBook Pro</td>\n",
       "      <td>Ultrabook</td>\n",
       "      <td>Intel Core i5 2.3GHz</td>\n",
       "      <td>8</td>\n",
       "      <td>128GB SSD</td>\n",
       "      <td>Intel Iris Plus Graphics 640</td>\n",
       "      <td>macOS</td>\n",
       "      <td>1.37</td>\n",
       "      <td>113230.5988</td>\n",
       "      <td>0</td>\n",
       "      <td>1</td>\n",
       "      <td>226.983005</td>\n",
       "      <td>Intel Core i5</td>\n",
       "    </tr>\n",
       "  </tbody>\n",
       "</table>\n",
       "</div>"
      ],
      "text/plain": [
       "  Company      Product   TypeName                   Cpu  Ram     Memory  \\\n",
       "0   Apple  MacBook Pro  Ultrabook  Intel Core i5 2.3GHz    8  128GB SSD   \n",
       "\n",
       "                            Gpu  OpSys  Weight  Indian_Price  Touchscreen  \\\n",
       "0  Intel Iris Plus Graphics 640  macOS    1.37   113230.5988            0   \n",
       "\n",
       "   IPS         PPI       CPU_name  \n",
       "0    1  226.983005  Intel Core i5  "
      ]
     },
     "execution_count": 47,
     "metadata": {},
     "output_type": "execute_result"
    }
   ],
   "source": [
    "df.head(1)"
   ]
  },
  {
   "cell_type": "code",
   "execution_count": 48,
   "id": "6237559a",
   "metadata": {},
   "outputs": [],
   "source": [
    "def fetch_processor(text):\n",
    "    if text == 'Intel Core i7' or text == 'Intel Core i5' or text == 'Intel Core i3':\n",
    "        return text\n",
    "    else:\n",
    "        if text.split()[0] == 'intel':\n",
    "            return 'Other Intel Processor'\n",
    "        else:\n",
    "            return 'AMD Processor'"
   ]
  },
  {
   "cell_type": "code",
   "execution_count": 49,
   "id": "ec4fd721",
   "metadata": {},
   "outputs": [],
   "source": [
    "df['Cpu brand'] = df['CPU_name'].apply(fetch_processor)"
   ]
  },
  {
   "cell_type": "code",
   "execution_count": 50,
   "id": "6c590bf6",
   "metadata": {},
   "outputs": [
    {
     "data": {
      "text/plain": [
       "<AxesSubplot:>"
      ]
     },
     "execution_count": 50,
     "metadata": {},
     "output_type": "execute_result"
    },
    {
     "data": {
      "image/png": "[encoded data removed]",
      "text/plain": [
       "<Figure size 432x288 with 1 Axes>"
      ]
     },
     "metadata": {
      "needs_background": "light"
     },
     "output_type": "display_data"
    }
   ],
   "source": [
    "df['Cpu brand'].value_counts().plot(kind='bar')"
   ]
  },
  {
   "cell_type": "code",
   "execution_count": 51,
   "id": "424493ce",
   "metadata": {},
   "outputs": [
    {
     "data": {
      "image/png": "[encoded data removed]",
      "text/plain": [
       "<Figure size 432x288 with 1 Axes>"
      ]
     },
     "metadata": {
      "needs_background": "light"
     },
     "output_type": "display_data"
    }
   ],
   "source": [
    "sb.barplot(x = df['Cpu brand'], y = df['Indian_Price'])\n",
    "plt.xticks(rotation = 'vertical')\n",
    "plt.show()"
   ]
  },
  {
   "cell_type": "code",
   "execution_count": 52,
   "id": "7d2ae4f8",
   "metadata": {},
   "outputs": [],
   "source": [
    "df.drop(columns=['Cpu', 'CPU_name'], inplace= True)"
   ]
  },
  {
   "cell_type": "code",
   "execution_count": 53,
   "id": "c81de561",
   "metadata": {},
   "outputs": [
    {
     "data": {
      "text/html": [
       "<div>\n",
       "<style scoped>\n",
       "    .dataframe tbody tr th:only-of-type {\n",
       "        vertical-align: middle;\n",
       "    }\n",
       "\n",
       "    .dataframe tbody tr th {\n",
       "        vertical-align: top;\n",
       "    }\n",
       "\n",
       "    .dataframe thead th {\n",
       "        text-align: right;\n",
       "    }\n",
       "</style>\n",
       "<table border=\"1\" class=\"dataframe\">\n",
       "  <thead>\n",
       "    <tr style=\"text-align: right;\">\n",
       "      <th></th>\n",
       "      <th>Company</th>\n",
       "      <th>Product</th>\n",
       "      <th>TypeName</th>\n",
       "      <th>Ram</th>\n",
       "      <th>Memory</th>\n",
       "      <th>Gpu</th>\n",
       "      <th>OpSys</th>\n",
       "      <th>Weight</th>\n",
       "      <th>Indian_Price</th>\n",
       "      <th>Touchscreen</th>\n",
       "      <th>IPS</th>\n",
       "      <th>PPI</th>\n",
       "      <th>Cpu brand</th>\n",
       "    </tr>\n",
       "  </thead>\n",
       "  <tbody>\n",
       "    <tr>\n",
       "      <th>0</th>\n",
       "      <td>Apple</td>\n",
       "      <td>MacBook Pro</td>\n",
       "      <td>Ultrabook</td>\n",
       "      <td>8</td>\n",
       "      <td>128GB SSD</td>\n",
       "      <td>Intel Iris Plus Graphics 640</td>\n",
       "      <td>macOS</td>\n",
       "      <td>1.37</td>\n",
       "      <td>113230.5988</td>\n",
       "      <td>0</td>\n",
       "      <td>1</td>\n",
       "      <td>226.983005</td>\n",
       "      <td>Intel Core i5</td>\n",
       "    </tr>\n",
       "  </tbody>\n",
       "</table>\n",
       "</div>"
      ],
      "text/plain": [
       "  Company      Product   TypeName  Ram     Memory  \\\n",
       "0   Apple  MacBook Pro  Ultrabook    8  128GB SSD   \n",
       "\n",
       "                            Gpu  OpSys  Weight  Indian_Price  Touchscreen  \\\n",
       "0  Intel Iris Plus Graphics 640  macOS    1.37   113230.5988            0   \n",
       "\n",
       "   IPS         PPI      Cpu brand  \n",
       "0    1  226.983005  Intel Core i5  "
      ]
     },
     "execution_count": 53,
     "metadata": {},
     "output_type": "execute_result"
    }
   ],
   "source": [
    "df.head(1)"
   ]
  },
  {
   "cell_type": "code",
   "execution_count": 54,
   "id": "67056a21",
   "metadata": {},
   "outputs": [
    {
     "data": {
      "text/plain": [
       "<AxesSubplot:>"
      ]
     },
     "execution_count": 54,
     "metadata": {},
     "output_type": "execute_result"
    },
    {
     "data": {
      "image/png": "[encoded data removed]",
      "text/plain": [
       "<Figure size 432x288 with 1 Axes>"
      ]
     },
     "metadata": {
      "needs_background": "light"
     },
     "output_type": "display_data"
    }
   ],
   "source": [
    "df['Ram'].value_counts().plot(kind='bar')"
   ]
  },
  {
   "cell_type": "markdown",
   "id": "dd21fb73",
   "metadata": {},
   "source": [
    "#### सबसे ज्यादा 8GB फिर 4GB की Rams बिकती है ।   "
   ]
  },
  {
   "cell_type": "code",
   "execution_count": 55,
   "id": "51c4d847",
   "metadata": {},
   "outputs": [
    {
     "data": {
      "image/png": "[encoded data removed]",
      "text/plain": [
       "<Figure size 432x288 with 1 Axes>"
      ]
     },
     "metadata": {
      "needs_background": "light"
     },
     "output_type": "display_data"
    }
   ],
   "source": [
    "sb.barplot(x= df['Ram'], y = df['Indian_Price'])\n",
    "plt.xticks(rotation = 'vertical')\n",
    "plt.show()"
   ]
  },
  {
   "cell_type": "code",
   "execution_count": 56,
   "id": "d25efc01",
   "metadata": {},
   "outputs": [
    {
     "name": "stderr",
     "output_type": "stream",
     "text": [
      "<ipython-input-56-829a749f3dc8>:16: FutureWarning: The default value of regex will change from True to False in a future version.\n",
      "  df['first'] = df['first'].str.replace(r'\\D', '')\n",
      "<ipython-input-56-829a749f3dc8>:29: FutureWarning: The default value of regex will change from True to False in a future version.\n",
      "  df['second'] = df['second'].str.replace(r'\\D', '')\n"
     ]
    }
   ],
   "source": [
    "df['Memory'] = df['Memory'].astype(str).replace('\\.0','', regex=True)\n",
    "df['Memory'] = df['Memory'].str.replace('GB', '')\n",
    "df['Memory'] = df['Memory'].str.replace('TB', '000')\n",
    "new = df['Memory'].str.split(\"+\", n =1, expand = True)\n",
    "\n",
    "df['first'] = new[0]\n",
    "df['first'] = df['first'].str.strip()\n",
    "\n",
    "df['second']= new[1]\n",
    "\n",
    "df['Layer1HDD'] = df['first'].apply(lambda x: 1 if \"HDD\" in x else 0)\n",
    "df['Layer1SSD'] = df['first'].apply(lambda x: 1 if \"SSD\" in x else 0)\n",
    "df['Layer1Hybrid'] = df['first'].apply(lambda x: 1 if \"Hybrid\" in x else 0)\n",
    "df['Layer1Flash_Storage'] = df['first'].apply(lambda x: 1 if \"Flash Storage\" in x else 0)\n",
    "\n",
    "df['first'] = df['first'].str.replace(r'\\D', '')\n",
    "\n",
    "df['second'].fillna('0', inplace = True)\n",
    "\n",
    "\n",
    "\n",
    "\n",
    "\n",
    "df['Layer2HDD'] = df['second'].apply(lambda x: 1 if \"HDD\" in x else 0)\n",
    "df['Layer2SSD'] = df['second'].apply(lambda x: 1 if \"SSD\" in x else 0)\n",
    "df['Layer2Hybrid'] = df['second'].apply(lambda x: 1 if \"Hybrid\" in x else 0)\n",
    "df['Layer2Flash_Storage'] = df['second'].apply(lambda x: 1 if \"Flash Storage\" in x else 0)\n",
    "\n",
    "df['second'] = df['second'].str.replace(r'\\D', '')\n",
    "\n",
    "\n",
    "df['first'] = df['first'].astype(int)\n",
    "df['second'] = df['second'].astype(int)\n",
    "\n",
    "df['HDD']= (df['first']*df['Layer1HDD']+ df['second']*df['Layer2HDD'])\n",
    "df['SSD']= (df['first']*df['Layer1SSD']+ df['second']*df['Layer2SSD'])\n",
    "df['Hybrid']= (df['first']*df['Layer1Hybrid']+df[\"second\"]*df[\"Layer2Hybrid\"])\n",
    "df['Flash_Storage']=(df['first']*df['Layer1Flash_Storage']+df['second']*df['Layer2Flash_Storage'] )\n",
    "\n",
    "\n",
    "df.drop(columns=['first', 'second', 'Layer1HDD', 'Layer1SSD', 'Layer1Hybrid', 'Layer1Flash_Storage', 'Layer2HDD', 'Layer2SSD', 'Layer2Hybrid', 'Layer2Flash_Storage'], inplace = True)"
   ]
  },
  {
   "cell_type": "code",
   "execution_count": 57,
   "id": "98a528b5",
   "metadata": {},
   "outputs": [
    {
     "data": {
      "text/html": [
       "<div>\n",
       "<style scoped>\n",
       "    .dataframe tbody tr th:only-of-type {\n",
       "        vertical-align: middle;\n",
       "    }\n",
       "\n",
       "    .dataframe tbody tr th {\n",
       "        vertical-align: top;\n",
       "    }\n",
       "\n",
       "    .dataframe thead th {\n",
       "        text-align: right;\n",
       "    }\n",
       "</style>\n",
       "<table border=\"1\" class=\"dataframe\">\n",
       "  <thead>\n",
       "    <tr style=\"text-align: right;\">\n",
       "      <th></th>\n",
       "      <th>Company</th>\n",
       "      <th>Product</th>\n",
       "      <th>TypeName</th>\n",
       "      <th>Ram</th>\n",
       "      <th>Memory</th>\n",
       "      <th>Gpu</th>\n",
       "      <th>OpSys</th>\n",
       "      <th>Weight</th>\n",
       "      <th>Indian_Price</th>\n",
       "      <th>Touchscreen</th>\n",
       "      <th>IPS</th>\n",
       "      <th>PPI</th>\n",
       "      <th>Cpu brand</th>\n",
       "      <th>HDD</th>\n",
       "      <th>SSD</th>\n",
       "      <th>Hybrid</th>\n",
       "      <th>Flash_Storage</th>\n",
       "    </tr>\n",
       "  </thead>\n",
       "  <tbody>\n",
       "    <tr>\n",
       "      <th>0</th>\n",
       "      <td>Apple</td>\n",
       "      <td>MacBook Pro</td>\n",
       "      <td>Ultrabook</td>\n",
       "      <td>8</td>\n",
       "      <td>128 SSD</td>\n",
       "      <td>Intel Iris Plus Graphics 640</td>\n",
       "      <td>macOS</td>\n",
       "      <td>1.37</td>\n",
       "      <td>113230.5988</td>\n",
       "      <td>0</td>\n",
       "      <td>1</td>\n",
       "      <td>226.983005</td>\n",
       "      <td>Intel Core i5</td>\n",
       "      <td>0</td>\n",
       "      <td>128</td>\n",
       "      <td>0</td>\n",
       "      <td>0</td>\n",
       "    </tr>\n",
       "  </tbody>\n",
       "</table>\n",
       "</div>"
      ],
      "text/plain": [
       "  Company      Product   TypeName  Ram   Memory                           Gpu  \\\n",
       "0   Apple  MacBook Pro  Ultrabook    8  128 SSD  Intel Iris Plus Graphics 640   \n",
       "\n",
       "   OpSys  Weight  Indian_Price  Touchscreen  IPS         PPI      Cpu brand  \\\n",
       "0  macOS    1.37   113230.5988            0    1  226.983005  Intel Core i5   \n",
       "\n",
       "   HDD  SSD  Hybrid  Flash_Storage  \n",
       "0    0  128       0              0  "
      ]
     },
     "execution_count": 57,
     "metadata": {},
     "output_type": "execute_result"
    }
   ],
   "source": [
    "df.head(1)"
   ]
  },
  {
   "cell_type": "code",
   "execution_count": 58,
   "id": "2e6d82aa",
   "metadata": {},
   "outputs": [
    {
     "data": {
      "text/plain": [
       "Ram              0.743007\n",
       "Weight           0.210370\n",
       "Indian_Price     1.000000\n",
       "Touchscreen      0.191226\n",
       "IPS              0.252208\n",
       "PPI              0.473487\n",
       "HDD             -0.096441\n",
       "SSD              0.670799\n",
       "Hybrid           0.007989\n",
       "Flash_Storage   -0.040511\n",
       "Name: Indian_Price, dtype: float64"
      ]
     },
     "execution_count": 58,
     "metadata": {},
     "output_type": "execute_result"
    }
   ],
   "source": [
    "df.corr()['Indian_Price']"
   ]
  },
  {
   "cell_type": "code",
   "execution_count": 59,
   "id": "45c5b491",
   "metadata": {},
   "outputs": [],
   "source": [
    "df.drop(columns=['Hybrid', 'Flash_Storage', 'Memory'], inplace= True)"
   ]
  },
  {
   "cell_type": "code",
   "execution_count": 60,
   "id": "3bf0897b",
   "metadata": {},
   "outputs": [
    {
     "data": {
      "text/html": [
       "<div>\n",
       "<style scoped>\n",
       "    .dataframe tbody tr th:only-of-type {\n",
       "        vertical-align: middle;\n",
       "    }\n",
       "\n",
       "    .dataframe tbody tr th {\n",
       "        vertical-align: top;\n",
       "    }\n",
       "\n",
       "    .dataframe thead th {\n",
       "        text-align: right;\n",
       "    }\n",
       "</style>\n",
       "<table border=\"1\" class=\"dataframe\">\n",
       "  <thead>\n",
       "    <tr style=\"text-align: right;\">\n",
       "      <th></th>\n",
       "      <th>Company</th>\n",
       "      <th>Product</th>\n",
       "      <th>TypeName</th>\n",
       "      <th>Ram</th>\n",
       "      <th>Gpu</th>\n",
       "      <th>OpSys</th>\n",
       "      <th>Weight</th>\n",
       "      <th>Indian_Price</th>\n",
       "      <th>Touchscreen</th>\n",
       "      <th>IPS</th>\n",
       "      <th>PPI</th>\n",
       "      <th>Cpu brand</th>\n",
       "      <th>HDD</th>\n",
       "      <th>SSD</th>\n",
       "    </tr>\n",
       "  </thead>\n",
       "  <tbody>\n",
       "    <tr>\n",
       "      <th>0</th>\n",
       "      <td>Apple</td>\n",
       "      <td>MacBook Pro</td>\n",
       "      <td>Ultrabook</td>\n",
       "      <td>8</td>\n",
       "      <td>Intel Iris Plus Graphics 640</td>\n",
       "      <td>macOS</td>\n",
       "      <td>1.37</td>\n",
       "      <td>113230.5988</td>\n",
       "      <td>0</td>\n",
       "      <td>1</td>\n",
       "      <td>226.983005</td>\n",
       "      <td>Intel Core i5</td>\n",
       "      <td>0</td>\n",
       "      <td>128</td>\n",
       "    </tr>\n",
       "  </tbody>\n",
       "</table>\n",
       "</div>"
      ],
      "text/plain": [
       "  Company      Product   TypeName  Ram                           Gpu  OpSys  \\\n",
       "0   Apple  MacBook Pro  Ultrabook    8  Intel Iris Plus Graphics 640  macOS   \n",
       "\n",
       "   Weight  Indian_Price  Touchscreen  IPS         PPI      Cpu brand  HDD  SSD  \n",
       "0    1.37   113230.5988            0    1  226.983005  Intel Core i5    0  128  "
      ]
     },
     "execution_count": 60,
     "metadata": {},
     "output_type": "execute_result"
    }
   ],
   "source": [
    "df.head(1)"
   ]
  },
  {
   "cell_type": "code",
   "execution_count": 61,
   "id": "a3861690",
   "metadata": {},
   "outputs": [
    {
     "data": {
      "text/plain": [
       "Intel HD Graphics 620        281\n",
       "Intel HD Graphics 520        185\n",
       "Intel UHD Graphics 620        68\n",
       "Nvidia GeForce GTX 1050       66\n",
       "Nvidia GeForce GTX 1060       48\n",
       "                            ... \n",
       "Nvidia GeForce GTX1050 Ti      1\n",
       "AMD Radeon Pro 560             1\n",
       "AMD FirePro W5130M             1\n",
       "AMD R17M-M1-70                 1\n",
       "Intel HD Graphics 620          1\n",
       "Name: Gpu, Length: 110, dtype: int64"
      ]
     },
     "execution_count": 61,
     "metadata": {},
     "output_type": "execute_result"
    }
   ],
   "source": [
    "df['Gpu'].value_counts()"
   ]
  },
  {
   "cell_type": "code",
   "execution_count": 62,
   "id": "d11146b9",
   "metadata": {},
   "outputs": [],
   "source": [
    "df['Gpu brand']= df['Gpu'].apply(lambda x:x.split()[0])"
   ]
  },
  {
   "cell_type": "code",
   "execution_count": 63,
   "id": "85063dae",
   "metadata": {},
   "outputs": [
    {
     "data": {
      "text/plain": [
       "Intel     722\n",
       "Nvidia    400\n",
       "AMD       180\n",
       "ARM         1\n",
       "Name: Gpu brand, dtype: int64"
      ]
     },
     "execution_count": 63,
     "metadata": {},
     "output_type": "execute_result"
    }
   ],
   "source": [
    "df['Gpu brand'].value_counts()"
   ]
  },
  {
   "cell_type": "code",
   "execution_count": 64,
   "id": "88c2d36f",
   "metadata": {},
   "outputs": [],
   "source": [
    "df = df[df['Gpu brand'] != 'ARM']"
   ]
  },
  {
   "cell_type": "code",
   "execution_count": 65,
   "id": "722bd741",
   "metadata": {},
   "outputs": [
    {
     "data": {
      "text/plain": [
       "Intel     722\n",
       "Nvidia    400\n",
       "AMD       180\n",
       "Name: Gpu brand, dtype: int64"
      ]
     },
     "execution_count": 65,
     "metadata": {},
     "output_type": "execute_result"
    }
   ],
   "source": [
    "df['Gpu brand'].value_counts()"
   ]
  },
  {
   "cell_type": "code",
   "execution_count": 66,
   "id": "f2888b8a",
   "metadata": {},
   "outputs": [],
   "source": [
    "df.drop(columns=['Gpu'], inplace= True)"
   ]
  },
  {
   "cell_type": "code",
   "execution_count": 67,
   "id": "8a6c4f73",
   "metadata": {},
   "outputs": [
    {
     "data": {
      "image/png": "[encoded data removed]",
      "text/plain": [
       "<Figure size 432x288 with 1 Axes>"
      ]
     },
     "metadata": {
      "needs_background": "light"
     },
     "output_type": "display_data"
    }
   ],
   "source": [
    "sb.barplot(x=df['Gpu brand'],y=df['Indian_Price'],estimator=np.median)\n",
    "plt.xticks(rotation='vertical')\n",
    "plt.show()"
   ]
  },
  {
   "cell_type": "code",
   "execution_count": 68,
   "id": "34c0d0cc",
   "metadata": {},
   "outputs": [
    {
     "name": "stdout",
     "output_type": "stream",
     "text": [
      "<class 'pandas.core.frame.DataFrame'>\n",
      "Int64Index: 1302 entries, 0 to 1302\n",
      "Data columns (total 14 columns):\n",
      " #   Column        Non-Null Count  Dtype  \n",
      "---  ------        --------------  -----  \n",
      " 0   Company       1302 non-null   object \n",
      " 1   Product       1302 non-null   object \n",
      " 2   TypeName      1302 non-null   object \n",
      " 3   Ram           1302 non-null   int32  \n",
      " 4   OpSys         1302 non-null   object \n",
      " 5   Weight        1302 non-null   float64\n",
      " 6   Indian_Price  1302 non-null   float64\n",
      " 7   Touchscreen   1302 non-null   int64  \n",
      " 8   IPS           1302 non-null   int64  \n",
      " 9   PPI           1302 non-null   float64\n",
      " 10  Cpu brand     1302 non-null   object \n",
      " 11  HDD           1302 non-null   int64  \n",
      " 12  SSD           1302 non-null   int64  \n",
      " 13  Gpu brand     1302 non-null   object \n",
      "dtypes: float64(3), int32(1), int64(4), object(6)\n",
      "memory usage: 179.8+ KB\n"
     ]
    }
   ],
   "source": [
    "df.info()"
   ]
  },
  {
   "cell_type": "code",
   "execution_count": 70,
   "id": "cc357486",
   "metadata": {},
   "outputs": [
    {
     "data": {
      "text/html": [
       "<div>\n",
       "<style scoped>\n",
       "    .dataframe tbody tr th:only-of-type {\n",
       "        vertical-align: middle;\n",
       "    }\n",
       "\n",
       "    .dataframe tbody tr th {\n",
       "        vertical-align: top;\n",
       "    }\n",
       "\n",
       "    .dataframe thead th {\n",
       "        text-align: right;\n",
       "    }\n",
       "</style>\n",
       "<table border=\"1\" class=\"dataframe\">\n",
       "  <thead>\n",
       "    <tr style=\"text-align: right;\">\n",
       "      <th></th>\n",
       "      <th>Company</th>\n",
       "      <th>Product</th>\n",
       "      <th>TypeName</th>\n",
       "      <th>Ram</th>\n",
       "      <th>OpSys</th>\n",
       "      <th>Weight</th>\n",
       "      <th>Indian_Price</th>\n",
       "      <th>Touchscreen</th>\n",
       "      <th>IPS</th>\n",
       "      <th>PPI</th>\n",
       "      <th>Cpu brand</th>\n",
       "      <th>HDD</th>\n",
       "      <th>SSD</th>\n",
       "      <th>Gpu brand</th>\n",
       "    </tr>\n",
       "  </thead>\n",
       "  <tbody>\n",
       "    <tr>\n",
       "      <th>0</th>\n",
       "      <td>Apple</td>\n",
       "      <td>MacBook Pro</td>\n",
       "      <td>Ultrabook</td>\n",
       "      <td>8</td>\n",
       "      <td>macOS</td>\n",
       "      <td>1.37</td>\n",
       "      <td>113230.5988</td>\n",
       "      <td>0</td>\n",
       "      <td>1</td>\n",
       "      <td>226.983005</td>\n",
       "      <td>Intel Core i5</td>\n",
       "      <td>0</td>\n",
       "      <td>128</td>\n",
       "      <td>Intel</td>\n",
       "    </tr>\n",
       "    <tr>\n",
       "      <th>1</th>\n",
       "      <td>Apple</td>\n",
       "      <td>Macbook Air</td>\n",
       "      <td>Ultrabook</td>\n",
       "      <td>8</td>\n",
       "      <td>macOS</td>\n",
       "      <td>1.34</td>\n",
       "      <td>75978.4088</td>\n",
       "      <td>0</td>\n",
       "      <td>0</td>\n",
       "      <td>127.677940</td>\n",
       "      <td>Intel Core i5</td>\n",
       "      <td>0</td>\n",
       "      <td>0</td>\n",
       "      <td>Intel</td>\n",
       "    </tr>\n",
       "    <tr>\n",
       "      <th>2</th>\n",
       "      <td>HP</td>\n",
       "      <td>250 G6</td>\n",
       "      <td>Notebook</td>\n",
       "      <td>8</td>\n",
       "      <td>No OS</td>\n",
       "      <td>1.86</td>\n",
       "      <td>48599.0000</td>\n",
       "      <td>0</td>\n",
       "      <td>0</td>\n",
       "      <td>141.211998</td>\n",
       "      <td>Intel Core i5</td>\n",
       "      <td>0</td>\n",
       "      <td>256</td>\n",
       "      <td>Intel</td>\n",
       "    </tr>\n",
       "    <tr>\n",
       "      <th>3</th>\n",
       "      <td>Apple</td>\n",
       "      <td>MacBook Pro</td>\n",
       "      <td>Ultrabook</td>\n",
       "      <td>16</td>\n",
       "      <td>macOS</td>\n",
       "      <td>1.83</td>\n",
       "      <td>214465.2740</td>\n",
       "      <td>0</td>\n",
       "      <td>1</td>\n",
       "      <td>220.534624</td>\n",
       "      <td>Intel Core i7</td>\n",
       "      <td>0</td>\n",
       "      <td>512</td>\n",
       "      <td>AMD</td>\n",
       "    </tr>\n",
       "    <tr>\n",
       "      <th>4</th>\n",
       "      <td>Apple</td>\n",
       "      <td>MacBook Pro</td>\n",
       "      <td>Ultrabook</td>\n",
       "      <td>8</td>\n",
       "      <td>macOS</td>\n",
       "      <td>1.37</td>\n",
       "      <td>152440.2720</td>\n",
       "      <td>0</td>\n",
       "      <td>1</td>\n",
       "      <td>226.983005</td>\n",
       "      <td>Intel Core i5</td>\n",
       "      <td>0</td>\n",
       "      <td>256</td>\n",
       "      <td>Intel</td>\n",
       "    </tr>\n",
       "  </tbody>\n",
       "</table>\n",
       "</div>"
      ],
      "text/plain": [
       "  Company      Product   TypeName  Ram  OpSys  Weight  Indian_Price  \\\n",
       "0   Apple  MacBook Pro  Ultrabook    8  macOS    1.37   113230.5988   \n",
       "1   Apple  Macbook Air  Ultrabook    8  macOS    1.34    75978.4088   \n",
       "2      HP       250 G6   Notebook    8  No OS    1.86    48599.0000   \n",
       "3   Apple  MacBook Pro  Ultrabook   16  macOS    1.83   214465.2740   \n",
       "4   Apple  MacBook Pro  Ultrabook    8  macOS    1.37   152440.2720   \n",
       "\n",
       "   Touchscreen  IPS         PPI      Cpu brand  HDD  SSD Gpu brand  \n",
       "0            0    1  226.983005  Intel Core i5    0  128     Intel  \n",
       "1            0    0  127.677940  Intel Core i5    0    0     Intel  \n",
       "2            0    0  141.211998  Intel Core i5    0  256     Intel  \n",
       "3            0    1  220.534624  Intel Core i7    0  512       AMD  \n",
       "4            0    1  226.983005  Intel Core i5    0  256     Intel  "
      ]
     },
     "execution_count": 70,
     "metadata": {},
     "output_type": "execute_result"
    }
   ],
   "source": [
    "df.head()"
   ]
  },
  {
   "cell_type": "code",
   "execution_count": 71,
   "id": "917eef97",
   "metadata": {},
   "outputs": [
    {
     "data": {
      "text/plain": [
       "Windows 10      1072\n",
       "No OS             66\n",
       "Linux             62\n",
       "Windows 7         45\n",
       "Chrome OS         26\n",
       "macOS             13\n",
       "Mac OS X           8\n",
       "Windows 10 S       8\n",
       "Android            2\n",
       "Name: OpSys, dtype: int64"
      ]
     },
     "execution_count": 71,
     "metadata": {},
     "output_type": "execute_result"
    }
   ],
   "source": [
    "df['OpSys'].value_counts()"
   ]
  },
  {
   "cell_type": "code",
   "execution_count": 72,
   "id": "10940c7b",
   "metadata": {},
   "outputs": [
    {
     "data": {
      "image/png": "[encoded data removed]",
      "text/plain": [
       "<Figure size 432x288 with 1 Axes>"
      ]
     },
     "metadata": {
      "needs_background": "light"
     },
     "output_type": "display_data"
    }
   ],
   "source": [
    "sb.barplot(x=df['OpSys'],y=df['Indian_Price'])\n",
    "plt.xticks(rotation='vertical')\n",
    "plt.show()"
   ]
  },
  {
   "cell_type": "code",
   "execution_count": 73,
   "id": "8e7d4064",
   "metadata": {},
   "outputs": [],
   "source": [
    "def cat_os(inp):\n",
    "    if inp == 'Windows 10' or inp == 'Windows 7' or inp == 'Windows 10 S':\n",
    "        return 'Windows'\n",
    "    elif inp == 'macOS' or inp == 'Mac OS X':\n",
    "        return 'Mac'\n",
    "    else:\n",
    "        return 'Others/No OS/Linux'"
   ]
  },
  {
   "cell_type": "code",
   "execution_count": 74,
   "id": "3db9f35f",
   "metadata": {},
   "outputs": [],
   "source": [
    "df['os'] = df['OpSys'].apply(cat_os)"
   ]
  },
  {
   "cell_type": "code",
   "execution_count": 75,
   "id": "b10db3e7",
   "metadata": {},
   "outputs": [
    {
     "data": {
      "text/html": [
       "<div>\n",
       "<style scoped>\n",
       "    .dataframe tbody tr th:only-of-type {\n",
       "        vertical-align: middle;\n",
       "    }\n",
       "\n",
       "    .dataframe tbody tr th {\n",
       "        vertical-align: top;\n",
       "    }\n",
       "\n",
       "    .dataframe thead th {\n",
       "        text-align: right;\n",
       "    }\n",
       "</style>\n",
       "<table border=\"1\" class=\"dataframe\">\n",
       "  <thead>\n",
       "    <tr style=\"text-align: right;\">\n",
       "      <th></th>\n",
       "      <th>Company</th>\n",
       "      <th>Product</th>\n",
       "      <th>TypeName</th>\n",
       "      <th>Ram</th>\n",
       "      <th>OpSys</th>\n",
       "      <th>Weight</th>\n",
       "      <th>Indian_Price</th>\n",
       "      <th>Touchscreen</th>\n",
       "      <th>IPS</th>\n",
       "      <th>PPI</th>\n",
       "      <th>Cpu brand</th>\n",
       "      <th>HDD</th>\n",
       "      <th>SSD</th>\n",
       "      <th>Gpu brand</th>\n",
       "      <th>os</th>\n",
       "    </tr>\n",
       "  </thead>\n",
       "  <tbody>\n",
       "    <tr>\n",
       "      <th>0</th>\n",
       "      <td>Apple</td>\n",
       "      <td>MacBook Pro</td>\n",
       "      <td>Ultrabook</td>\n",
       "      <td>8</td>\n",
       "      <td>macOS</td>\n",
       "      <td>1.37</td>\n",
       "      <td>113230.5988</td>\n",
       "      <td>0</td>\n",
       "      <td>1</td>\n",
       "      <td>226.983005</td>\n",
       "      <td>Intel Core i5</td>\n",
       "      <td>0</td>\n",
       "      <td>128</td>\n",
       "      <td>Intel</td>\n",
       "      <td>Mac</td>\n",
       "    </tr>\n",
       "    <tr>\n",
       "      <th>1</th>\n",
       "      <td>Apple</td>\n",
       "      <td>Macbook Air</td>\n",
       "      <td>Ultrabook</td>\n",
       "      <td>8</td>\n",
       "      <td>macOS</td>\n",
       "      <td>1.34</td>\n",
       "      <td>75978.4088</td>\n",
       "      <td>0</td>\n",
       "      <td>0</td>\n",
       "      <td>127.677940</td>\n",
       "      <td>Intel Core i5</td>\n",
       "      <td>0</td>\n",
       "      <td>0</td>\n",
       "      <td>Intel</td>\n",
       "      <td>Mac</td>\n",
       "    </tr>\n",
       "    <tr>\n",
       "      <th>2</th>\n",
       "      <td>HP</td>\n",
       "      <td>250 G6</td>\n",
       "      <td>Notebook</td>\n",
       "      <td>8</td>\n",
       "      <td>No OS</td>\n",
       "      <td>1.86</td>\n",
       "      <td>48599.0000</td>\n",
       "      <td>0</td>\n",
       "      <td>0</td>\n",
       "      <td>141.211998</td>\n",
       "      <td>Intel Core i5</td>\n",
       "      <td>0</td>\n",
       "      <td>256</td>\n",
       "      <td>Intel</td>\n",
       "      <td>Others/No OS/Linux</td>\n",
       "    </tr>\n",
       "    <tr>\n",
       "      <th>3</th>\n",
       "      <td>Apple</td>\n",
       "      <td>MacBook Pro</td>\n",
       "      <td>Ultrabook</td>\n",
       "      <td>16</td>\n",
       "      <td>macOS</td>\n",
       "      <td>1.83</td>\n",
       "      <td>214465.2740</td>\n",
       "      <td>0</td>\n",
       "      <td>1</td>\n",
       "      <td>220.534624</td>\n",
       "      <td>Intel Core i7</td>\n",
       "      <td>0</td>\n",
       "      <td>512</td>\n",
       "      <td>AMD</td>\n",
       "      <td>Mac</td>\n",
       "    </tr>\n",
       "    <tr>\n",
       "      <th>4</th>\n",
       "      <td>Apple</td>\n",
       "      <td>MacBook Pro</td>\n",
       "      <td>Ultrabook</td>\n",
       "      <td>8</td>\n",
       "      <td>macOS</td>\n",
       "      <td>1.37</td>\n",
       "      <td>152440.2720</td>\n",
       "      <td>0</td>\n",
       "      <td>1</td>\n",
       "      <td>226.983005</td>\n",
       "      <td>Intel Core i5</td>\n",
       "      <td>0</td>\n",
       "      <td>256</td>\n",
       "      <td>Intel</td>\n",
       "      <td>Mac</td>\n",
       "    </tr>\n",
       "  </tbody>\n",
       "</table>\n",
       "</div>"
      ],
      "text/plain": [
       "  Company      Product   TypeName  Ram  OpSys  Weight  Indian_Price  \\\n",
       "0   Apple  MacBook Pro  Ultrabook    8  macOS    1.37   113230.5988   \n",
       "1   Apple  Macbook Air  Ultrabook    8  macOS    1.34    75978.4088   \n",
       "2      HP       250 G6   Notebook    8  No OS    1.86    48599.0000   \n",
       "3   Apple  MacBook Pro  Ultrabook   16  macOS    1.83   214465.2740   \n",
       "4   Apple  MacBook Pro  Ultrabook    8  macOS    1.37   152440.2720   \n",
       "\n",
       "   Touchscreen  IPS         PPI      Cpu brand  HDD  SSD Gpu brand  \\\n",
       "0            0    1  226.983005  Intel Core i5    0  128     Intel   \n",
       "1            0    0  127.677940  Intel Core i5    0    0     Intel   \n",
       "2            0    0  141.211998  Intel Core i5    0  256     Intel   \n",
       "3            0    1  220.534624  Intel Core i7    0  512       AMD   \n",
       "4            0    1  226.983005  Intel Core i5    0  256     Intel   \n",
       "\n",
       "                   os  \n",
       "0                 Mac  \n",
       "1                 Mac  \n",
       "2  Others/No OS/Linux  \n",
       "3                 Mac  \n",
       "4                 Mac  "
      ]
     },
     "execution_count": 75,
     "metadata": {},
     "output_type": "execute_result"
    }
   ],
   "source": [
    "df.head()"
   ]
  },
  {
   "cell_type": "code",
   "execution_count": 76,
   "id": "b14dd802",
   "metadata": {},
   "outputs": [],
   "source": [
    "df.drop(columns=['OpSys'],inplace=True)"
   ]
  },
  {
   "cell_type": "code",
   "execution_count": 77,
   "id": "e0736b3e",
   "metadata": {},
   "outputs": [
    {
     "data": {
      "image/png": "[encoded data removed]",
      "text/plain": [
       "<Figure size 432x288 with 1 Axes>"
      ]
     },
     "metadata": {
      "needs_background": "light"
     },
     "output_type": "display_data"
    }
   ],
   "source": [
    "sb.barplot(x=df['os'],y=df['Indian_Price'])\n",
    "plt.xticks(rotation='vertical')\n",
    "plt.show()"
   ]
  },
  {
   "cell_type": "code",
   "execution_count": 78,
   "id": "1e1c396a",
   "metadata": {},
   "outputs": [
    {
     "name": "stderr",
     "output_type": "stream",
     "text": [
      "C:\\ProgramData\\Anaconda3\\lib\\site-packages\\seaborn\\distributions.py:2557: FutureWarning: `distplot` is a deprecated function and will be removed in a future version. Please adapt your code to use either `displot` (a figure-level function with similar flexibility) or `histplot` (an axes-level function for histograms).\n",
      "  warnings.warn(msg, FutureWarning)\n"
     ]
    },
    {
     "data": {
      "text/plain": [
       "<AxesSubplot:xlabel='Weight', ylabel='Density'>"
      ]
     },
     "execution_count": 78,
     "metadata": {},
     "output_type": "execute_result"
    },
    {
     "data": {
      "image/png": "[encoded data removed]",
      "text/plain": [
       "<Figure size 432x288 with 1 Axes>"
      ]
     },
     "metadata": {
      "needs_background": "light"
     },
     "output_type": "display_data"
    }
   ],
   "source": [
    "sb.distplot(df['Weight'])"
   ]
  },
  {
   "cell_type": "code",
   "execution_count": 79,
   "id": "aacb07d1",
   "metadata": {},
   "outputs": [
    {
     "data": {
      "text/plain": [
       "<AxesSubplot:xlabel='Weight', ylabel='Indian_Price'>"
      ]
     },
     "execution_count": 79,
     "metadata": {},
     "output_type": "execute_result"
    },
    {
     "data": {
      "image/png": "[encoded data removed]",
      "text/plain": [
       "<Figure size 432x288 with 1 Axes>"
      ]
     },
     "metadata": {
      "needs_background": "light"
     },
     "output_type": "display_data"
    }
   ],
   "source": [
    "sb.scatterplot(x=df['Weight'],y=df['Indian_Price'])"
   ]
  },
  {
   "cell_type": "code",
   "execution_count": 80,
   "id": "0589a378",
   "metadata": {},
   "outputs": [
    {
     "data": {
      "text/plain": [
       "Ram             0.742905\n",
       "Weight          0.209867\n",
       "Indian_Price    1.000000\n",
       "Touchscreen     0.192917\n",
       "IPS             0.253320\n",
       "PPI             0.475368\n",
       "HDD            -0.096891\n",
       "SSD             0.670660\n",
       "Name: Indian_Price, dtype: float64"
      ]
     },
     "execution_count": 80,
     "metadata": {},
     "output_type": "execute_result"
    }
   ],
   "source": [
    "df.corr()['Indian_Price']"
   ]
  },
  {
   "cell_type": "code",
   "execution_count": 81,
   "id": "65cc4fbe",
   "metadata": {},
   "outputs": [
    {
     "data": {
      "text/plain": [
       "<AxesSubplot:>"
      ]
     },
     "execution_count": 81,
     "metadata": {},
     "output_type": "execute_result"
    },
    {
     "data": {
      "image/png": "[encoded data removed]",
      "text/plain": [
       "<Figure size 432x288 with 2 Axes>"
      ]
     },
     "metadata": {
      "needs_background": "light"
     },
     "output_type": "display_data"
    }
   ],
   "source": [
    "sb.heatmap(df.corr())"
   ]
  },
  {
   "cell_type": "code",
   "execution_count": 82,
   "id": "148bd672",
   "metadata": {},
   "outputs": [
    {
     "name": "stderr",
     "output_type": "stream",
     "text": [
      "C:\\ProgramData\\Anaconda3\\lib\\site-packages\\seaborn\\distributions.py:2557: FutureWarning: `distplot` is a deprecated function and will be removed in a future version. Please adapt your code to use either `displot` (a figure-level function with similar flexibility) or `histplot` (an axes-level function for histograms).\n",
      "  warnings.warn(msg, FutureWarning)\n"
     ]
    },
    {
     "data": {
      "text/plain": [
       "<AxesSubplot:xlabel='Indian_Price', ylabel='Density'>"
      ]
     },
     "execution_count": 82,
     "metadata": {},
     "output_type": "execute_result"
    },
    {
     "data": {
      "image/png": "[encoded data removed]",
      "text/plain": [
       "<Figure size 432x288 with 1 Axes>"
      ]
     },
     "metadata": {
      "needs_background": "light"
     },
     "output_type": "display_data"
    }
   ],
   "source": [
    "sb.distplot(np.log(df['Indian_Price']))"
   ]
  },
  {
   "cell_type": "code",
   "execution_count": 83,
   "id": "84eea285",
   "metadata": {},
   "outputs": [],
   "source": [
    "X = df.drop(columns=['Indian_Price'])\n",
    "y = np.log(df['Indian_Price'])"
   ]
  },
  {
   "cell_type": "code",
   "execution_count": 104,
   "id": "60475ad5",
   "metadata": {},
   "outputs": [
    {
     "data": {
      "text/html": [
       "<div>\n",
       "<style scoped>\n",
       "    .dataframe tbody tr th:only-of-type {\n",
       "        vertical-align: middle;\n",
       "    }\n",
       "\n",
       "    .dataframe tbody tr th {\n",
       "        vertical-align: top;\n",
       "    }\n",
       "\n",
       "    .dataframe thead th {\n",
       "        text-align: right;\n",
       "    }\n",
       "</style>\n",
       "<table border=\"1\" class=\"dataframe\">\n",
       "  <thead>\n",
       "    <tr style=\"text-align: right;\">\n",
       "      <th></th>\n",
       "      <th>Company</th>\n",
       "      <th>Product</th>\n",
       "      <th>TypeName</th>\n",
       "      <th>Ram</th>\n",
       "      <th>Weight</th>\n",
       "      <th>Touchscreen</th>\n",
       "      <th>IPS</th>\n",
       "      <th>PPI</th>\n",
       "      <th>Cpu brand</th>\n",
       "      <th>HDD</th>\n",
       "      <th>SSD</th>\n",
       "      <th>Gpu brand</th>\n",
       "      <th>os</th>\n",
       "    </tr>\n",
       "  </thead>\n",
       "  <tbody>\n",
       "    <tr>\n",
       "      <th>0</th>\n",
       "      <td>Apple</td>\n",
       "      <td>MacBook Pro</td>\n",
       "      <td>Ultrabook</td>\n",
       "      <td>8</td>\n",
       "      <td>1.37</td>\n",
       "      <td>0</td>\n",
       "      <td>1</td>\n",
       "      <td>226.983005</td>\n",
       "      <td>Intel Core i5</td>\n",
       "      <td>0</td>\n",
       "      <td>128</td>\n",
       "      <td>Intel</td>\n",
       "      <td>Mac</td>\n",
       "    </tr>\n",
       "    <tr>\n",
       "      <th>1</th>\n",
       "      <td>Apple</td>\n",
       "      <td>Macbook Air</td>\n",
       "      <td>Ultrabook</td>\n",
       "      <td>8</td>\n",
       "      <td>1.34</td>\n",
       "      <td>0</td>\n",
       "      <td>0</td>\n",
       "      <td>127.677940</td>\n",
       "      <td>Intel Core i5</td>\n",
       "      <td>0</td>\n",
       "      <td>0</td>\n",
       "      <td>Intel</td>\n",
       "      <td>Mac</td>\n",
       "    </tr>\n",
       "    <tr>\n",
       "      <th>2</th>\n",
       "      <td>HP</td>\n",
       "      <td>250 G6</td>\n",
       "      <td>Notebook</td>\n",
       "      <td>8</td>\n",
       "      <td>1.86</td>\n",
       "      <td>0</td>\n",
       "      <td>0</td>\n",
       "      <td>141.211998</td>\n",
       "      <td>Intel Core i5</td>\n",
       "      <td>0</td>\n",
       "      <td>256</td>\n",
       "      <td>Intel</td>\n",
       "      <td>Others/No OS/Linux</td>\n",
       "    </tr>\n",
       "    <tr>\n",
       "      <th>3</th>\n",
       "      <td>Apple</td>\n",
       "      <td>MacBook Pro</td>\n",
       "      <td>Ultrabook</td>\n",
       "      <td>16</td>\n",
       "      <td>1.83</td>\n",
       "      <td>0</td>\n",
       "      <td>1</td>\n",
       "      <td>220.534624</td>\n",
       "      <td>Intel Core i7</td>\n",
       "      <td>0</td>\n",
       "      <td>512</td>\n",
       "      <td>AMD</td>\n",
       "      <td>Mac</td>\n",
       "    </tr>\n",
       "    <tr>\n",
       "      <th>4</th>\n",
       "      <td>Apple</td>\n",
       "      <td>MacBook Pro</td>\n",
       "      <td>Ultrabook</td>\n",
       "      <td>8</td>\n",
       "      <td>1.37</td>\n",
       "      <td>0</td>\n",
       "      <td>1</td>\n",
       "      <td>226.983005</td>\n",
       "      <td>Intel Core i5</td>\n",
       "      <td>0</td>\n",
       "      <td>256</td>\n",
       "      <td>Intel</td>\n",
       "      <td>Mac</td>\n",
       "    </tr>\n",
       "    <tr>\n",
       "      <th>...</th>\n",
       "      <td>...</td>\n",
       "      <td>...</td>\n",
       "      <td>...</td>\n",
       "      <td>...</td>\n",
       "      <td>...</td>\n",
       "      <td>...</td>\n",
       "      <td>...</td>\n",
       "      <td>...</td>\n",
       "      <td>...</td>\n",
       "      <td>...</td>\n",
       "      <td>...</td>\n",
       "      <td>...</td>\n",
       "      <td>...</td>\n",
       "    </tr>\n",
       "    <tr>\n",
       "      <th>1298</th>\n",
       "      <td>Lenovo</td>\n",
       "      <td>Yoga 500-14ISK</td>\n",
       "      <td>2 in 1 Convertible</td>\n",
       "      <td>4</td>\n",
       "      <td>1.80</td>\n",
       "      <td>1</td>\n",
       "      <td>1</td>\n",
       "      <td>157.350512</td>\n",
       "      <td>Intel Core i7</td>\n",
       "      <td>0</td>\n",
       "      <td>128</td>\n",
       "      <td>Intel</td>\n",
       "      <td>Windows</td>\n",
       "    </tr>\n",
       "    <tr>\n",
       "      <th>1299</th>\n",
       "      <td>Lenovo</td>\n",
       "      <td>Yoga 900-13ISK</td>\n",
       "      <td>2 in 1 Convertible</td>\n",
       "      <td>16</td>\n",
       "      <td>1.30</td>\n",
       "      <td>1</td>\n",
       "      <td>1</td>\n",
       "      <td>276.053530</td>\n",
       "      <td>Intel Core i7</td>\n",
       "      <td>0</td>\n",
       "      <td>512</td>\n",
       "      <td>Intel</td>\n",
       "      <td>Windows</td>\n",
       "    </tr>\n",
       "    <tr>\n",
       "      <th>1300</th>\n",
       "      <td>Lenovo</td>\n",
       "      <td>IdeaPad 100S-14IBR</td>\n",
       "      <td>Notebook</td>\n",
       "      <td>2</td>\n",
       "      <td>1.50</td>\n",
       "      <td>0</td>\n",
       "      <td>0</td>\n",
       "      <td>111.935204</td>\n",
       "      <td>AMD Processor</td>\n",
       "      <td>0</td>\n",
       "      <td>0</td>\n",
       "      <td>Intel</td>\n",
       "      <td>Windows</td>\n",
       "    </tr>\n",
       "    <tr>\n",
       "      <th>1301</th>\n",
       "      <td>HP</td>\n",
       "      <td>15-AC110nv (i7-6500U/6GB/1TB/Radeon</td>\n",
       "      <td>Notebook</td>\n",
       "      <td>6</td>\n",
       "      <td>2.19</td>\n",
       "      <td>0</td>\n",
       "      <td>0</td>\n",
       "      <td>100.454670</td>\n",
       "      <td>Intel Core i7</td>\n",
       "      <td>1000</td>\n",
       "      <td>0</td>\n",
       "      <td>AMD</td>\n",
       "      <td>Windows</td>\n",
       "    </tr>\n",
       "    <tr>\n",
       "      <th>1302</th>\n",
       "      <td>Asus</td>\n",
       "      <td>X553SA-XX031T (N3050/4GB/500GB/W10)</td>\n",
       "      <td>Notebook</td>\n",
       "      <td>4</td>\n",
       "      <td>2.20</td>\n",
       "      <td>0</td>\n",
       "      <td>0</td>\n",
       "      <td>100.454670</td>\n",
       "      <td>AMD Processor</td>\n",
       "      <td>500</td>\n",
       "      <td>0</td>\n",
       "      <td>Intel</td>\n",
       "      <td>Windows</td>\n",
       "    </tr>\n",
       "  </tbody>\n",
       "</table>\n",
       "<p>1302 rows × 13 columns</p>\n",
       "</div>"
      ],
      "text/plain": [
       "     Company                              Product            TypeName  Ram  \\\n",
       "0      Apple                          MacBook Pro           Ultrabook    8   \n",
       "1      Apple                          Macbook Air           Ultrabook    8   \n",
       "2         HP                               250 G6            Notebook    8   \n",
       "3      Apple                          MacBook Pro           Ultrabook   16   \n",
       "4      Apple                          MacBook Pro           Ultrabook    8   \n",
       "...      ...                                  ...                 ...  ...   \n",
       "1298  Lenovo                       Yoga 500-14ISK  2 in 1 Convertible    4   \n",
       "1299  Lenovo                       Yoga 900-13ISK  2 in 1 Convertible   16   \n",
       "1300  Lenovo                   IdeaPad 100S-14IBR            Notebook    2   \n",
       "1301      HP  15-AC110nv (i7-6500U/6GB/1TB/Radeon            Notebook    6   \n",
       "1302    Asus  X553SA-XX031T (N3050/4GB/500GB/W10)            Notebook    4   \n",
       "\n",
       "      Weight  Touchscreen  IPS         PPI      Cpu brand   HDD  SSD  \\\n",
       "0       1.37            0    1  226.983005  Intel Core i5     0  128   \n",
       "1       1.34            0    0  127.677940  Intel Core i5     0    0   \n",
       "2       1.86            0    0  141.211998  Intel Core i5     0  256   \n",
       "3       1.83            0    1  220.534624  Intel Core i7     0  512   \n",
       "4       1.37            0    1  226.983005  Intel Core i5     0  256   \n",
       "...      ...          ...  ...         ...            ...   ...  ...   \n",
       "1298    1.80            1    1  157.350512  Intel Core i7     0  128   \n",
       "1299    1.30            1    1  276.053530  Intel Core i7     0  512   \n",
       "1300    1.50            0    0  111.935204  AMD Processor     0    0   \n",
       "1301    2.19            0    0  100.454670  Intel Core i7  1000    0   \n",
       "1302    2.20            0    0  100.454670  AMD Processor   500    0   \n",
       "\n",
       "     Gpu brand                  os  \n",
       "0        Intel                 Mac  \n",
       "1        Intel                 Mac  \n",
       "2        Intel  Others/No OS/Linux  \n",
       "3          AMD                 Mac  \n",
       "4        Intel                 Mac  \n",
       "...        ...                 ...  \n",
       "1298     Intel             Windows  \n",
       "1299     Intel             Windows  \n",
       "1300     Intel             Windows  \n",
       "1301       AMD             Windows  \n",
       "1302     Intel             Windows  \n",
       "\n",
       "[1302 rows x 13 columns]"
      ]
     },
     "execution_count": 104,
     "metadata": {},
     "output_type": "execute_result"
    }
   ],
   "source": [
    "X\n"
   ]
  },
  {
   "cell_type": "code",
   "execution_count": 84,
   "id": "67cf80e4",
   "metadata": {},
   "outputs": [
    {
     "data": {
      "text/plain": [
       "0       11.637182\n",
       "1       11.238204\n",
       "2       10.791358\n",
       "3       12.275903\n",
       "4       11.934528\n",
       "          ...    \n",
       "1298    10.895326\n",
       "1299    11.749542\n",
       "1300     9.870710\n",
       "1301    11.075556\n",
       "1302    10.347785\n",
       "Name: Indian_Price, Length: 1302, dtype: float64"
      ]
     },
     "execution_count": 84,
     "metadata": {},
     "output_type": "execute_result"
    }
   ],
   "source": [
    "y"
   ]
  },
  {
   "cell_type": "code",
   "execution_count": 85,
   "id": "ae9e3d1f",
   "metadata": {},
   "outputs": [],
   "source": [
    "from sklearn.model_selection import train_test_split\n",
    "X_train,X_test,y_train,y_test = train_test_split(X,y,test_size=0.15,random_state=2)"
   ]
  },
  {
   "cell_type": "code",
   "execution_count": 92,
   "id": "c4261963",
   "metadata": {},
   "outputs": [
    {
     "name": "stdout",
     "output_type": "stream",
     "text": [
      "<class 'pandas.core.frame.DataFrame'>\n",
      "Int64Index: 1106 entries, 183 to 1193\n",
      "Data columns (total 13 columns):\n",
      " #   Column       Non-Null Count  Dtype  \n",
      "---  ------       --------------  -----  \n",
      " 0   Company      1106 non-null   object \n",
      " 1   Product      1106 non-null   object \n",
      " 2   TypeName     1106 non-null   object \n",
      " 3   Ram          1106 non-null   int32  \n",
      " 4   Weight       1106 non-null   float64\n",
      " 5   Touchscreen  1106 non-null   int64  \n",
      " 6   IPS          1106 non-null   int64  \n",
      " 7   PPI          1106 non-null   float64\n",
      " 8   Cpu brand    1106 non-null   object \n",
      " 9   HDD          1106 non-null   int64  \n",
      " 10  SSD          1106 non-null   int64  \n",
      " 11  Gpu brand    1106 non-null   object \n",
      " 12  os           1106 non-null   object \n",
      "dtypes: float64(2), int32(1), int64(4), object(6)\n",
      "memory usage: 116.6+ KB\n"
     ]
    }
   ],
   "source": [
    "X_train.info()"
   ]
  },
  {
   "cell_type": "code",
   "execution_count": 87,
   "id": "1dc62568",
   "metadata": {},
   "outputs": [],
   "source": [
    "from sklearn.compose import ColumnTransformer\n",
    "from sklearn.pipeline import Pipeline\n",
    "from sklearn.preprocessing import OneHotEncoder\n",
    "from sklearn.metrics import r2_score,mean_absolute_error"
   ]
  },
  {
   "cell_type": "code",
   "execution_count": 88,
   "id": "2fcadbee",
   "metadata": {},
   "outputs": [],
   "source": [
    "from sklearn.linear_model import LinearRegression,Ridge,Lasso\n",
    "from sklearn.neighbors import KNeighborsRegressor\n",
    "from sklearn.tree import DecisionTreeRegressor\n",
    "from sklearn.ensemble import RandomForestRegressor,GradientBoostingRegressor,AdaBoostRegressor,ExtraTreesRegressor\n",
    "from sklearn.svm import SVR\n",
    "from xgboost import XGBRegressor"
   ]
  },
  {
   "cell_type": "code",
   "execution_count": 107,
   "id": "f463b3b3",
   "metadata": {},
   "outputs": [],
   "source": [
    "from sklearn.model_selection import train_test_split  \n",
    "X_train, X_test, y_train, y_test= train_test_split(X, y, test_size= 0.2, random_state=0)  \n",
    "  "
   ]
  },
  {
   "cell_type": "code",
   "execution_count": 108,
   "id": "184df08a",
   "metadata": {},
   "outputs": [
    {
     "ename": "ValueError",
     "evalue": "could not convert string to float: 'Acer'",
     "output_type": "error",
     "traceback": [
      "\u001b[1;31m---------------------------------------------------------------------------\u001b[0m",
      "\u001b[1;31mValueError\u001b[0m                                Traceback (most recent call last)",
      "\u001b[1;32m<ipython-input-108-91740124d2bb>\u001b[0m in \u001b[0;36m<module>\u001b[1;34m\u001b[0m\n\u001b[0;32m      1\u001b[0m \u001b[1;32mfrom\u001b[0m \u001b[0msklearn\u001b[0m\u001b[1;33m.\u001b[0m\u001b[0mensemble\u001b[0m \u001b[1;32mimport\u001b[0m \u001b[0mRandomForestClassifier\u001b[0m\u001b[1;33m\u001b[0m\u001b[1;33m\u001b[0m\u001b[0m\n\u001b[0;32m      2\u001b[0m \u001b[0mclassifier\u001b[0m\u001b[1;33m=\u001b[0m \u001b[0mRandomForestClassifier\u001b[0m\u001b[1;33m(\u001b[0m\u001b[0mn_estimators\u001b[0m\u001b[1;33m=\u001b[0m \u001b[1;36m1302\u001b[0m\u001b[1;33m)\u001b[0m\u001b[1;33m\u001b[0m\u001b[1;33m\u001b[0m\u001b[0m\n\u001b[1;32m----> 3\u001b[1;33m \u001b[0mclassifier\u001b[0m\u001b[1;33m.\u001b[0m\u001b[0mfit\u001b[0m\u001b[1;33m(\u001b[0m\u001b[0mX_train\u001b[0m\u001b[1;33m,\u001b[0m \u001b[0my_train\u001b[0m\u001b[1;33m)\u001b[0m\u001b[1;33m\u001b[0m\u001b[1;33m\u001b[0m\u001b[0m\n\u001b[0m",
      "\u001b[1;32mC:\\ProgramData\\Anaconda3\\lib\\site-packages\\sklearn\\ensemble\\_forest.py\u001b[0m in \u001b[0;36mfit\u001b[1;34m(self, X, y, sample_weight)\u001b[0m\n\u001b[0;32m    302\u001b[0m                 \u001b[1;34m\"sparse multilabel-indicator for y is not supported.\"\u001b[0m\u001b[1;33m\u001b[0m\u001b[1;33m\u001b[0m\u001b[0m\n\u001b[0;32m    303\u001b[0m             )\n\u001b[1;32m--> 304\u001b[1;33m         X, y = self._validate_data(X, y, multi_output=True,\n\u001b[0m\u001b[0;32m    305\u001b[0m                                    accept_sparse=\"csc\", dtype=DTYPE)\n\u001b[0;32m    306\u001b[0m         \u001b[1;32mif\u001b[0m \u001b[0msample_weight\u001b[0m \u001b[1;32mis\u001b[0m \u001b[1;32mnot\u001b[0m \u001b[1;32mNone\u001b[0m\u001b[1;33m:\u001b[0m\u001b[1;33m\u001b[0m\u001b[1;33m\u001b[0m\u001b[0m\n",
      "\u001b[1;32mC:\\ProgramData\\Anaconda3\\lib\\site-packages\\sklearn\\base.py\u001b[0m in \u001b[0;36m_validate_data\u001b[1;34m(self, X, y, reset, validate_separately, **check_params)\u001b[0m\n\u001b[0;32m    431\u001b[0m                 \u001b[0my\u001b[0m \u001b[1;33m=\u001b[0m \u001b[0mcheck_array\u001b[0m\u001b[1;33m(\u001b[0m\u001b[0my\u001b[0m\u001b[1;33m,\u001b[0m \u001b[1;33m**\u001b[0m\u001b[0mcheck_y_params\u001b[0m\u001b[1;33m)\u001b[0m\u001b[1;33m\u001b[0m\u001b[1;33m\u001b[0m\u001b[0m\n\u001b[0;32m    432\u001b[0m             \u001b[1;32melse\u001b[0m\u001b[1;33m:\u001b[0m\u001b[1;33m\u001b[0m\u001b[1;33m\u001b[0m\u001b[0m\n\u001b[1;32m--> 433\u001b[1;33m                 \u001b[0mX\u001b[0m\u001b[1;33m,\u001b[0m \u001b[0my\u001b[0m \u001b[1;33m=\u001b[0m \u001b[0mcheck_X_y\u001b[0m\u001b[1;33m(\u001b[0m\u001b[0mX\u001b[0m\u001b[1;33m,\u001b[0m \u001b[0my\u001b[0m\u001b[1;33m,\u001b[0m \u001b[1;33m**\u001b[0m\u001b[0mcheck_params\u001b[0m\u001b[1;33m)\u001b[0m\u001b[1;33m\u001b[0m\u001b[1;33m\u001b[0m\u001b[0m\n\u001b[0m\u001b[0;32m    434\u001b[0m             \u001b[0mout\u001b[0m \u001b[1;33m=\u001b[0m \u001b[0mX\u001b[0m\u001b[1;33m,\u001b[0m \u001b[0my\u001b[0m\u001b[1;33m\u001b[0m\u001b[1;33m\u001b[0m\u001b[0m\n\u001b[0;32m    435\u001b[0m \u001b[1;33m\u001b[0m\u001b[0m\n",
      "\u001b[1;32mC:\\ProgramData\\Anaconda3\\lib\\site-packages\\sklearn\\utils\\validation.py\u001b[0m in \u001b[0;36minner_f\u001b[1;34m(*args, **kwargs)\u001b[0m\n\u001b[0;32m     61\u001b[0m             \u001b[0mextra_args\u001b[0m \u001b[1;33m=\u001b[0m \u001b[0mlen\u001b[0m\u001b[1;33m(\u001b[0m\u001b[0margs\u001b[0m\u001b[1;33m)\u001b[0m \u001b[1;33m-\u001b[0m \u001b[0mlen\u001b[0m\u001b[1;33m(\u001b[0m\u001b[0mall_args\u001b[0m\u001b[1;33m)\u001b[0m\u001b[1;33m\u001b[0m\u001b[1;33m\u001b[0m\u001b[0m\n\u001b[0;32m     62\u001b[0m             \u001b[1;32mif\u001b[0m \u001b[0mextra_args\u001b[0m \u001b[1;33m<=\u001b[0m \u001b[1;36m0\u001b[0m\u001b[1;33m:\u001b[0m\u001b[1;33m\u001b[0m\u001b[1;33m\u001b[0m\u001b[0m\n\u001b[1;32m---> 63\u001b[1;33m                 \u001b[1;32mreturn\u001b[0m \u001b[0mf\u001b[0m\u001b[1;33m(\u001b[0m\u001b[1;33m*\u001b[0m\u001b[0margs\u001b[0m\u001b[1;33m,\u001b[0m \u001b[1;33m**\u001b[0m\u001b[0mkwargs\u001b[0m\u001b[1;33m)\u001b[0m\u001b[1;33m\u001b[0m\u001b[1;33m\u001b[0m\u001b[0m\n\u001b[0m\u001b[0;32m     64\u001b[0m \u001b[1;33m\u001b[0m\u001b[0m\n\u001b[0;32m     65\u001b[0m             \u001b[1;31m# extra_args > 0\u001b[0m\u001b[1;33m\u001b[0m\u001b[1;33m\u001b[0m\u001b[1;33m\u001b[0m\u001b[0m\n",
      "\u001b[1;32mC:\\ProgramData\\Anaconda3\\lib\\site-packages\\sklearn\\utils\\validation.py\u001b[0m in \u001b[0;36mcheck_X_y\u001b[1;34m(X, y, accept_sparse, accept_large_sparse, dtype, order, copy, force_all_finite, ensure_2d, allow_nd, multi_output, ensure_min_samples, ensure_min_features, y_numeric, estimator)\u001b[0m\n\u001b[0;32m    812\u001b[0m         \u001b[1;32mraise\u001b[0m \u001b[0mValueError\u001b[0m\u001b[1;33m(\u001b[0m\u001b[1;34m\"y cannot be None\"\u001b[0m\u001b[1;33m)\u001b[0m\u001b[1;33m\u001b[0m\u001b[1;33m\u001b[0m\u001b[0m\n\u001b[0;32m    813\u001b[0m \u001b[1;33m\u001b[0m\u001b[0m\n\u001b[1;32m--> 814\u001b[1;33m     X = check_array(X, accept_sparse=accept_sparse,\n\u001b[0m\u001b[0;32m    815\u001b[0m                     \u001b[0maccept_large_sparse\u001b[0m\u001b[1;33m=\u001b[0m\u001b[0maccept_large_sparse\u001b[0m\u001b[1;33m,\u001b[0m\u001b[1;33m\u001b[0m\u001b[1;33m\u001b[0m\u001b[0m\n\u001b[0;32m    816\u001b[0m                     \u001b[0mdtype\u001b[0m\u001b[1;33m=\u001b[0m\u001b[0mdtype\u001b[0m\u001b[1;33m,\u001b[0m \u001b[0morder\u001b[0m\u001b[1;33m=\u001b[0m\u001b[0morder\u001b[0m\u001b[1;33m,\u001b[0m \u001b[0mcopy\u001b[0m\u001b[1;33m=\u001b[0m\u001b[0mcopy\u001b[0m\u001b[1;33m,\u001b[0m\u001b[1;33m\u001b[0m\u001b[1;33m\u001b[0m\u001b[0m\n",
      "\u001b[1;32mC:\\ProgramData\\Anaconda3\\lib\\site-packages\\sklearn\\utils\\validation.py\u001b[0m in \u001b[0;36minner_f\u001b[1;34m(*args, **kwargs)\u001b[0m\n\u001b[0;32m     61\u001b[0m             \u001b[0mextra_args\u001b[0m \u001b[1;33m=\u001b[0m \u001b[0mlen\u001b[0m\u001b[1;33m(\u001b[0m\u001b[0margs\u001b[0m\u001b[1;33m)\u001b[0m \u001b[1;33m-\u001b[0m \u001b[0mlen\u001b[0m\u001b[1;33m(\u001b[0m\u001b[0mall_args\u001b[0m\u001b[1;33m)\u001b[0m\u001b[1;33m\u001b[0m\u001b[1;33m\u001b[0m\u001b[0m\n\u001b[0;32m     62\u001b[0m             \u001b[1;32mif\u001b[0m \u001b[0mextra_args\u001b[0m \u001b[1;33m<=\u001b[0m \u001b[1;36m0\u001b[0m\u001b[1;33m:\u001b[0m\u001b[1;33m\u001b[0m\u001b[1;33m\u001b[0m\u001b[0m\n\u001b[1;32m---> 63\u001b[1;33m                 \u001b[1;32mreturn\u001b[0m \u001b[0mf\u001b[0m\u001b[1;33m(\u001b[0m\u001b[1;33m*\u001b[0m\u001b[0margs\u001b[0m\u001b[1;33m,\u001b[0m \u001b[1;33m**\u001b[0m\u001b[0mkwargs\u001b[0m\u001b[1;33m)\u001b[0m\u001b[1;33m\u001b[0m\u001b[1;33m\u001b[0m\u001b[0m\n\u001b[0m\u001b[0;32m     64\u001b[0m \u001b[1;33m\u001b[0m\u001b[0m\n\u001b[0;32m     65\u001b[0m             \u001b[1;31m# extra_args > 0\u001b[0m\u001b[1;33m\u001b[0m\u001b[1;33m\u001b[0m\u001b[1;33m\u001b[0m\u001b[0m\n",
      "\u001b[1;32mC:\\ProgramData\\Anaconda3\\lib\\site-packages\\sklearn\\utils\\validation.py\u001b[0m in \u001b[0;36mcheck_array\u001b[1;34m(array, accept_sparse, accept_large_sparse, dtype, order, copy, force_all_finite, ensure_2d, allow_nd, ensure_min_samples, ensure_min_features, estimator)\u001b[0m\n\u001b[0;32m    614\u001b[0m                     \u001b[0marray\u001b[0m \u001b[1;33m=\u001b[0m \u001b[0marray\u001b[0m\u001b[1;33m.\u001b[0m\u001b[0mastype\u001b[0m\u001b[1;33m(\u001b[0m\u001b[0mdtype\u001b[0m\u001b[1;33m,\u001b[0m \u001b[0mcasting\u001b[0m\u001b[1;33m=\u001b[0m\u001b[1;34m\"unsafe\"\u001b[0m\u001b[1;33m,\u001b[0m \u001b[0mcopy\u001b[0m\u001b[1;33m=\u001b[0m\u001b[1;32mFalse\u001b[0m\u001b[1;33m)\u001b[0m\u001b[1;33m\u001b[0m\u001b[1;33m\u001b[0m\u001b[0m\n\u001b[0;32m    615\u001b[0m                 \u001b[1;32melse\u001b[0m\u001b[1;33m:\u001b[0m\u001b[1;33m\u001b[0m\u001b[1;33m\u001b[0m\u001b[0m\n\u001b[1;32m--> 616\u001b[1;33m                     \u001b[0marray\u001b[0m \u001b[1;33m=\u001b[0m \u001b[0mnp\u001b[0m\u001b[1;33m.\u001b[0m\u001b[0masarray\u001b[0m\u001b[1;33m(\u001b[0m\u001b[0marray\u001b[0m\u001b[1;33m,\u001b[0m \u001b[0morder\u001b[0m\u001b[1;33m=\u001b[0m\u001b[0morder\u001b[0m\u001b[1;33m,\u001b[0m \u001b[0mdtype\u001b[0m\u001b[1;33m=\u001b[0m\u001b[0mdtype\u001b[0m\u001b[1;33m)\u001b[0m\u001b[1;33m\u001b[0m\u001b[1;33m\u001b[0m\u001b[0m\n\u001b[0m\u001b[0;32m    617\u001b[0m             \u001b[1;32mexcept\u001b[0m \u001b[0mComplexWarning\u001b[0m \u001b[1;32mas\u001b[0m \u001b[0mcomplex_warning\u001b[0m\u001b[1;33m:\u001b[0m\u001b[1;33m\u001b[0m\u001b[1;33m\u001b[0m\u001b[0m\n\u001b[0;32m    618\u001b[0m                 raise ValueError(\"Complex data not supported\\n\"\n",
      "\u001b[1;32mC:\\ProgramData\\Anaconda3\\lib\\site-packages\\numpy\\core\\_asarray.py\u001b[0m in \u001b[0;36masarray\u001b[1;34m(a, dtype, order, like)\u001b[0m\n\u001b[0;32m    100\u001b[0m         \u001b[1;32mreturn\u001b[0m \u001b[0m_asarray_with_like\u001b[0m\u001b[1;33m(\u001b[0m\u001b[0ma\u001b[0m\u001b[1;33m,\u001b[0m \u001b[0mdtype\u001b[0m\u001b[1;33m=\u001b[0m\u001b[0mdtype\u001b[0m\u001b[1;33m,\u001b[0m \u001b[0morder\u001b[0m\u001b[1;33m=\u001b[0m\u001b[0morder\u001b[0m\u001b[1;33m,\u001b[0m \u001b[0mlike\u001b[0m\u001b[1;33m=\u001b[0m\u001b[0mlike\u001b[0m\u001b[1;33m)\u001b[0m\u001b[1;33m\u001b[0m\u001b[1;33m\u001b[0m\u001b[0m\n\u001b[0;32m    101\u001b[0m \u001b[1;33m\u001b[0m\u001b[0m\n\u001b[1;32m--> 102\u001b[1;33m     \u001b[1;32mreturn\u001b[0m \u001b[0marray\u001b[0m\u001b[1;33m(\u001b[0m\u001b[0ma\u001b[0m\u001b[1;33m,\u001b[0m \u001b[0mdtype\u001b[0m\u001b[1;33m,\u001b[0m \u001b[0mcopy\u001b[0m\u001b[1;33m=\u001b[0m\u001b[1;32mFalse\u001b[0m\u001b[1;33m,\u001b[0m \u001b[0morder\u001b[0m\u001b[1;33m=\u001b[0m\u001b[0morder\u001b[0m\u001b[1;33m)\u001b[0m\u001b[1;33m\u001b[0m\u001b[1;33m\u001b[0m\u001b[0m\n\u001b[0m\u001b[0;32m    103\u001b[0m \u001b[1;33m\u001b[0m\u001b[0m\n\u001b[0;32m    104\u001b[0m \u001b[1;33m\u001b[0m\u001b[0m\n",
      "\u001b[1;32mC:\\ProgramData\\Anaconda3\\lib\\site-packages\\pandas\\core\\generic.py\u001b[0m in \u001b[0;36m__array__\u001b[1;34m(self, dtype)\u001b[0m\n\u001b[0;32m   1897\u001b[0m \u001b[1;33m\u001b[0m\u001b[0m\n\u001b[0;32m   1898\u001b[0m     \u001b[1;32mdef\u001b[0m \u001b[0m__array__\u001b[0m\u001b[1;33m(\u001b[0m\u001b[0mself\u001b[0m\u001b[1;33m,\u001b[0m \u001b[0mdtype\u001b[0m\u001b[1;33m=\u001b[0m\u001b[1;32mNone\u001b[0m\u001b[1;33m)\u001b[0m \u001b[1;33m->\u001b[0m \u001b[0mnp\u001b[0m\u001b[1;33m.\u001b[0m\u001b[0mndarray\u001b[0m\u001b[1;33m:\u001b[0m\u001b[1;33m\u001b[0m\u001b[1;33m\u001b[0m\u001b[0m\n\u001b[1;32m-> 1899\u001b[1;33m         \u001b[1;32mreturn\u001b[0m \u001b[0mnp\u001b[0m\u001b[1;33m.\u001b[0m\u001b[0masarray\u001b[0m\u001b[1;33m(\u001b[0m\u001b[0mself\u001b[0m\u001b[1;33m.\u001b[0m\u001b[0m_values\u001b[0m\u001b[1;33m,\u001b[0m \u001b[0mdtype\u001b[0m\u001b[1;33m=\u001b[0m\u001b[0mdtype\u001b[0m\u001b[1;33m)\u001b[0m\u001b[1;33m\u001b[0m\u001b[1;33m\u001b[0m\u001b[0m\n\u001b[0m\u001b[0;32m   1900\u001b[0m \u001b[1;33m\u001b[0m\u001b[0m\n\u001b[0;32m   1901\u001b[0m     def __array_wrap__(\n",
      "\u001b[1;32mC:\\ProgramData\\Anaconda3\\lib\\site-packages\\numpy\\core\\_asarray.py\u001b[0m in \u001b[0;36masarray\u001b[1;34m(a, dtype, order, like)\u001b[0m\n\u001b[0;32m    100\u001b[0m         \u001b[1;32mreturn\u001b[0m \u001b[0m_asarray_with_like\u001b[0m\u001b[1;33m(\u001b[0m\u001b[0ma\u001b[0m\u001b[1;33m,\u001b[0m \u001b[0mdtype\u001b[0m\u001b[1;33m=\u001b[0m\u001b[0mdtype\u001b[0m\u001b[1;33m,\u001b[0m \u001b[0morder\u001b[0m\u001b[1;33m=\u001b[0m\u001b[0morder\u001b[0m\u001b[1;33m,\u001b[0m \u001b[0mlike\u001b[0m\u001b[1;33m=\u001b[0m\u001b[0mlike\u001b[0m\u001b[1;33m)\u001b[0m\u001b[1;33m\u001b[0m\u001b[1;33m\u001b[0m\u001b[0m\n\u001b[0;32m    101\u001b[0m \u001b[1;33m\u001b[0m\u001b[0m\n\u001b[1;32m--> 102\u001b[1;33m     \u001b[1;32mreturn\u001b[0m \u001b[0marray\u001b[0m\u001b[1;33m(\u001b[0m\u001b[0ma\u001b[0m\u001b[1;33m,\u001b[0m \u001b[0mdtype\u001b[0m\u001b[1;33m,\u001b[0m \u001b[0mcopy\u001b[0m\u001b[1;33m=\u001b[0m\u001b[1;32mFalse\u001b[0m\u001b[1;33m,\u001b[0m \u001b[0morder\u001b[0m\u001b[1;33m=\u001b[0m\u001b[0morder\u001b[0m\u001b[1;33m)\u001b[0m\u001b[1;33m\u001b[0m\u001b[1;33m\u001b[0m\u001b[0m\n\u001b[0m\u001b[0;32m    103\u001b[0m \u001b[1;33m\u001b[0m\u001b[0m\n\u001b[0;32m    104\u001b[0m \u001b[1;33m\u001b[0m\u001b[0m\n",
      "\u001b[1;31mValueError\u001b[0m: could not convert string to float: 'Acer'"
     ]
    }
   ],
   "source": [
    "from sklearn.ensemble import RandomForestClassifier  \n",
    "classifier= RandomForestClassifier(n_estimators= 1302)  \n",
    "classifier.fit(X_train, y_train)"
   ]
  },
  {
   "cell_type": "code",
   "execution_count": null,
   "id": "f64bcb85",
   "metadata": {},
   "outputs": [],
   "source": []
  },
  {
   "cell_type": "code",
   "execution_count": null,
   "id": "7448495b",
   "metadata": {},
   "outputs": [],
   "source": []
  },
  {
   "cell_type": "code",
   "execution_count": null,
   "id": "c535acd3",
   "metadata": {},
   "outputs": [],
   "source": []
  },
  {
   "cell_type": "code",
   "execution_count": null,
   "id": "7a9c2601",
   "metadata": {},
   "outputs": [],
   "source": []
  },
  {
   "cell_type": "code",
   "execution_count": null,
   "id": "1e107a60",
   "metadata": {},
   "outputs": [],
   "source": []
  },
  {
   "cell_type": "code",
   "execution_count": null,
   "id": "f5b3d713",
   "metadata": {},
   "outputs": [],
   "source": []
  },
  {
   "cell_type": "code",
   "execution_count": null,
   "id": "48d2f0c0",
   "metadata": {},
   "outputs": [],
   "source": []
  },
  {
   "cell_type": "code",
   "execution_count": null,
   "id": "7f1f6bf4",
   "metadata": {},
   "outputs": [],
   "source": []
  }
 ],
 "metadata": {
  "kernelspec": {
   "display_name": "Python 3",
   "language": "python",
   "name": "python3"
  },
  "language_info": {
   "codemirror_mode": {
    "name": "ipython",
    "version": 3
   },
   "file_extension": ".py",
   "mimetype": "text/x-python",
   "name": "python",
   "nbconvert_exporter": "python",
   "pygments_lexer": "ipython3",
   "version": "3.8.8"
  }
 },
 "nbformat": 4,
 "nbformat_minor": 5
}
